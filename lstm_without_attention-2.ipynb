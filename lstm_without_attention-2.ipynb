{
 "cells": [
  {
   "cell_type": "code",
   "execution_count": 1,
   "id": "b14832ed-e356-48f7-9e72-64eebb0499db",
   "metadata": {},
   "outputs": [],
   "source": [
    "%matplotlib inline\n",
    "from netCDF4 import Dataset as ncread\n",
    "import netCDF4 as nc\n",
    "import numpy as np\n",
    "from scipy.io import loadmat\n",
    "import pandas as pd\n",
    "import h5py\n",
    "import math\n",
    "import pandas as pd\n",
    "from datetime import datetime\n",
    "from itertools import product\n",
    "from cftime import DatetimeNoLeap\n",
    "import xarray as xr\n",
    "from eofs.standard import Eof"
   ]
  },
  {
   "cell_type": "code",
   "execution_count": 2,
   "id": "5d9670ec-9cd9-4a08-a858-dd865864b45c",
   "metadata": {},
   "outputs": [],
   "source": [
    "import matplotlib.pyplot as plt\n",
    "from matplotlib import rcParams #For changing text properties\n",
    "import cmocean #A package with beautiful colormaps\n",
    "import matplotlib.path as mpath\n",
    "\n",
    "from sklearn.linear_model import LogisticRegression\n",
    "from sklearn.metrics import accuracy_score\n",
    "from sklearn.metrics import f1_score\n",
    "from sklearn.metrics import precision_score\n",
    "from sklearn.metrics import recall_score\n",
    "from sklearn.utils import shuffle"
   ]
  },
  {
   "cell_type": "code",
   "execution_count": 12,
   "id": "0fb3a7c1-35c7-4493-ac22-3f4abfc3a342",
   "metadata": {},
   "outputs": [],
   "source": [
    "from datetime import datetime \n",
    "from datetime import timedelta\n",
    "from datetime import date\n",
    "\n",
    "import time\n",
    "\n",
    "import warnings\n",
    "warnings.filterwarnings(\"ignore\")"
   ]
  },
  {
   "cell_type": "code",
   "execution_count": null,
   "id": "a317c7de-96b6-4ba7-898e-f62d6697deca",
   "metadata": {},
   "outputs": [],
   "source": [
    "##pip install tensorflow"
   ]
  },
  {
   "cell_type": "code",
   "execution_count": 4,
   "id": "802f0104-6ed5-4a1c-b6f1-1425a253f5a3",
   "metadata": {},
   "outputs": [
    {
     "name": "stderr",
     "output_type": "stream",
     "text": [
      "2022-09-02 13:28:08.671774: W tensorflow/stream_executor/platform/default/dso_loader.cc:64] Could not load dynamic library 'libcudart.so.11.0'; dlerror: libcudart.so.11.0: cannot open shared object file: No such file or directory\n",
      "2022-09-02 13:28:08.671821: I tensorflow/stream_executor/cuda/cudart_stub.cc:29] Ignore above cudart dlerror if you do not have a GPU set up on your machine.\n"
     ]
    }
   ],
   "source": [
    "import tensorflow as tf    \n",
    "#tf.compat.v1.disable_v2_behavior() # <-- HERE !\n",
    "\n",
    "from tensorflow import keras\n",
    "from tensorflow.keras import layers\n",
    "from tensorflow.keras import Input\n",
    "from tensorflow.keras.models import Model\n",
    "from tensorflow.keras.callbacks import ModelCheckpoint\n",
    "from tensorflow.keras import regularizers\n",
    "import tensorflow.keras.backend as K\n",
    "from tensorflow.keras.utils import to_categorical\n",
    "from tensorflow.keras.layers import Dropout, Activation, Reshape, Flatten, LSTM, Dense, Dropout, Embedding, Bidirectional, GRU\n",
    "from tensorflow.keras import Sequential\n",
    "from tensorflow.keras import initializers, regularizers\n",
    "from tensorflow.keras import optimizers\n",
    "from tensorflow.keras import constraints\n",
    "from tensorflow.keras.layers import Layer, InputSpec"
   ]
  },
  {
   "cell_type": "code",
   "execution_count": 5,
   "id": "4fe8826c-b572-4b16-a7d1-8ad60f14b4c0",
   "metadata": {},
   "outputs": [],
   "source": [
    "root_data='/s2s/mpyrina/Lorentz_Workshop/Data/'\n",
    "root_results='/s2s/mpyrina/Lorentz_Workshop/Results/'"
   ]
  },
  {
   "cell_type": "code",
   "execution_count": 6,
   "id": "273681d3-3a8c-4e63-9c40-79fdf7dbe89c",
   "metadata": {},
   "outputs": [
    {
     "data": {
      "text/plain": [
       "'/home/mpyrina/Notebooks/Lorentz_workshop'"
      ]
     },
     "execution_count": 6,
     "metadata": {},
     "output_type": "execute_result"
    }
   ],
   "source": [
    "pwd"
   ]
  },
  {
   "cell_type": "code",
   "execution_count": 7,
   "id": "5e754063-4d7e-4b99-983a-166e891d2163",
   "metadata": {},
   "outputs": [],
   "source": [
    "exec(open('/home/mpyrina/Notebooks/Lorentz_workshop/L_functions.py').read())"
   ]
  },
  {
   "cell_type": "markdown",
   "id": "b12e4516-c491-4c85-89f9-84237eb7ad9a",
   "metadata": {
    "tags": []
   },
   "source": [
    "# Data\n",
    "## Target data: index time series contaning only OND values"
   ]
  },
  {
   "cell_type": "code",
   "execution_count": 15,
   "id": "c512f274-7108-4896-b41e-745984a42f9b",
   "metadata": {},
   "outputs": [
    {
     "name": "stdout",
     "output_type": "stream",
     "text": [
      "Frozen({'latitude': 28, 'longitude': 31})\n",
      "value of the 33 percentile 0.00027705061818355853\n",
      "tp index <xarray.Dataset>\n",
      "Dimensions:   (time: 3864)\n",
      "Coordinates:\n",
      "  * time      (time) datetime64[ns] 1980-10-01 1980-10-02 ... 2021-12-31\n",
      "    quantile  float64 0.33\n",
      "Data variables:\n",
      "    tp        (time) int64 dask.array<chunksize=(3863,), meta=np.ndarray>\n"
     ]
    },
    {
     "data": {
      "image/png": "[encoded data removed]",
      "text/plain": [
       "<Figure size 432x288 with 2 Axes>"
      ]
     },
     "metadata": {
      "needs_background": "light"
     },
     "output_type": "display_data"
    }
   ],
   "source": [
    "# Import regional mask\n",
    "file = 'era5_hoa_dry_mask_2deg.nc' #0.25\n",
    "\n",
    "mask=xr.open_mfdataset(root_data+file,\n",
    "                       combine='by_coords',parallel=True)\n",
    "mask_nan=mask.where(mask==1) #keep the values=1 and mask the rest with nan\n",
    "mask_nan.tp.plot()\n",
    "print(mask_nan.sizes)\n",
    "\n",
    "# Calculate the spatial mean of the tp file after applying the spatial mask\n",
    "file=xr.open_mfdataset(root_data+'era5_tp_1959-2021_1_12_daily_2.0deg.nc',\n",
    "                        combine='by_coords',parallel=True)\n",
    "tp_dim=file.sel(longitude=slice(10,70),latitude=slice(24,-30))\n",
    "tp_series=np.multiply(mask_nan,tp_dim).mean(dim='latitude',skipna=True).mean(dim='longitude',skipna=True)\n",
    "\n",
    "# Calculate 33 percentile\n",
    "# Create daily values equal to a 31 day rolling. Select OND 2000-2020 data to decide the quantile threshold\n",
    "tp_rol_q=tp_series.rolling(time=31, center=True).mean().sel(time=tp_series.time.dt.year.isin([np.arange(2000,2021)]))\n",
    "tp_quantile=tp_rol_q.sel(time=tp_rol_q.time.dt.month.isin([10,11,12])).quantile(0.33)\n",
    "print('value of the 33 percentile',tp_quantile.tp.values)\n",
    "\n",
    "# Create index time series\n",
    "# Replace the values bellow the 33 percentile with 1 and the rest with zeros\n",
    "\n",
    "SYY = 1980   # start year, could be changed\n",
    "EYY = 2021\n",
    "\n",
    "tp_rol = tp_series.rolling(time=31, center=True).mean().sel(time=tp_series.time.dt.month.isin([10,11,12]))\n",
    "tp_rol_sel = tp_rol.sel(time = slice(str(SYY),str(EYY)))\n",
    "tp_index = tp_rol_sel < tp_quantile\n",
    "tp_index = tp_index.astype(int)\n",
    "print('tp index',tp_index)"
   ]
  },
  {
   "cell_type": "code",
   "execution_count": 16,
   "id": "55e37b2e-04a6-4384-abf0-6c0137a75537",
   "metadata": {},
   "outputs": [
    {
     "name": "stdout",
     "output_type": "stream",
     "text": [
      "number of 0 and 1:  (array([0, 1]), array([1939,  665]))\n",
      "<xarray.Dataset>\n",
      "Dimensions:   (time: 2604)\n",
      "Coordinates:\n",
      "  * time      (time) datetime64[ns] 1980-10-16 1980-10-17 ... 2021-12-16\n",
      "    quantile  float64 0.33\n",
      "Data variables:\n",
      "    tp        (time) int64 dask.array<chunksize=(62,), meta=np.ndarray>\n",
      "(2604,)\n"
     ]
    },
    {
     "data": {
      "image/png": "[encoded data removed]",
      "text/plain": [
       "<Figure size 432x288 with 1 Axes>"
      ]
     },
     "metadata": {
      "needs_background": "light"
     },
     "output_type": "display_data"
    }
   ],
   "source": [
    "for iyr in range(SYY,EYY+1):\n",
    "    if iyr == SYY:\n",
    "        tp_target = tp_index.sel(time = slice(str(iyr)+'-10-16',str(iyr)+'-12-16'))\n",
    "    else:\n",
    "        tp_target = xr.concat([tp_target,tp_index.sel(time = slice(str(iyr)+'-10-16',str(iyr)+'-12-16'))], dim='time')\n",
    "print('number of 0 and 1: ',np.unique(tp_target['tp'],return_counts=True))\n",
    "print(tp_target)\n",
    "plt.plot(tp_target.tp)\n",
    "\n",
    "# Make it into a numpy array\n",
    "target = tp_target['tp'].values #y_target=tp_target.tp.to_numpy()\n",
    "print(target.shape)"
   ]
  },
  {
   "cell_type": "markdown",
   "id": "46bfd17f-eb49-4077-b702-963e1a544ec2",
   "metadata": {
    "tags": []
   },
   "source": [
    "## Predictor data"
   ]
  },
  {
   "cell_type": "code",
   "execution_count": null,
   "id": "789277e3-dd51-4881-8732-46378355d209",
   "metadata": {},
   "outputs": [],
   "source": [
    "# Predictor data preprocessing\n",
    "# can select the values and region you want by changing the parameters\n",
    "\n",
    "file_vars = ['ERA5_t2m', 'era5_t_850hpa', 'era5_z_200hpa', 'era5_z_500hpa', 'sst', 'era5_olr']\n",
    "header_vars = ['t2m', 't', 'z', 'z', 'sst', 'olr-mean']\n",
    "\n",
    "# select regions for the individual predictor\n",
    "lon_slices = [[-16,54],[-30,90],[-30,90],[-30,90],[40,180],[40,180]]\n",
    "lat_slices = [[16,0],[30,-20],[-20,30],[-20,30],[10,-10],[-20,20]]\n",
    "\n",
    "for file_var, header_var, lon_slice, lat_slice in zip (file_vars, header_vars, lon_slices, lat_slices):\n",
    "    if file_var=='era5_olr':\n",
    "        file = xr.open_mfdataset(root_data+file_var+'_1950_2021_daily_1deg_tropics.nc',\n",
    "                                 combine='by_coords',parallel=True)\n",
    "        print('olr')\n",
    "        var_dim = file.sel(lon=slice(lon_slice[0],lon_slice[1]),lat=slice(lat_slice[0],lat_slice[1]))\n",
    "        lon = var_dim.coords['lon'].values\n",
    "        lat = var_dim.coords['lat'].values\n",
    "    else:\n",
    "        file = xr.open_mfdataset(root_data+file_var+'_1959-2021_1_12_daily_2.0deg.nc',\n",
    "                                 combine='by_coords',parallel=True)\n",
    "        print(header_var)\n",
    "        var_dim = file.sel(longitude=slice(lon_slice[0],lon_slice[1]),latitude=slice(lat_slice[0],lat_slice[1]))\n",
    "        lon = var_dim.coords['longitude'].values\n",
    "        lat = var_dim.coords['latitude'].values\n",
    "\n",
    "    nlon = len(lon)\n",
    "    nlat = len(lat)\n",
    "    \n",
    "    var_series = var_dim.sel(time=var_dim.time.dt.year.isin([np.arange(SYY,EYY+1)])).rolling(time=7, center=False).mean(skipna=True)\n",
    "    #print(var_series)\n",
    "    \n",
    "    var_anom_series = var_series.groupby(\"time.dayofyear\") - var_series.groupby(\"time.dayofyear\").mean(\"time\",skipna=True)\n",
    "    \n",
    "    # Apply EOF -- use the months you want (base on how long the time series used as predictors)\n",
    "    var_anom_sel = var_anom_series.sel(time=var_anom_series.time.dt.month.isin([7,8,9,10,11]))[header_var].values\n",
    "    # first, make a grid out of the longitude and latitude vectors so they have the same dimensions \n",
    "    lon2d,lat2d = np.meshgrid(lon,lat)\n",
    "    wgts = np.cos(lat2d/180*np.pi)**0.5\n",
    "    print(wgts.shape)\n",
    "    solver = Eof(var_anom_sel,weights=wgts)\n",
    "    \n",
    "    # EOFs are multiplied by the square-root of their eigenvalues (then the EOF patterns will carry the units)\n",
    "    nmode = 5\n",
    "    EOF = solver.eofs(neofs=nmode,eofscaling=2) # get the first four eofs\n",
    "    print('EOF shape',np.shape(EOF))\n",
    "    eigenv = solver.eigenvalues(neigs=nmode)\n",
    "    #print('eigenvalues',eigenv)\n",
    "    VarEx = solver.varianceFraction(neigs=nmode)*100\n",
    "    print('the first '+str(nmode)+' modes explain '+str(np.round(sum(VarEx),2))+'% of the total variance of '+header_var)\n",
    "    PC = solver.pcs(npcs=nmode,pcscaling=1)\n",
    "    print('PC shape',np.shape(PC))\n",
    "    \n",
    "    # PC from np.array to xarray\n",
    "    mode = np.arange(nmode)\n",
    "    var_anom_dim = var_anom_series.sel(time=var_anom_series.time.dt.month.isin([7,8,9,10,11]))\n",
    "    time_dim = var_anom_dim.coords['time']\n",
    "    #print(var_anom_dim.coords['time'])\n",
    "    pc_xr = xr.DataArray(PC, coords={'time': time_dim, 'mode': mode}, dims=[\"time\",\"mode\"])\n",
    "    \n",
    "    # save the data for future use\n",
    "    np.save(root_results+'PC_series_n_'+str(nmode)+'_var_'+file_var+'_.npy',PC)\n",
    "    pc_xr.to_netcdf(root_results+'PC_series_n_'+str(nmode)+'_var_'+file_var+'_.nc')"
   ]
  },
  {
   "cell_type": "code",
   "execution_count": 17,
   "id": "7149e054-907a-4243-8a54-ed8a6316ae0c",
   "metadata": {},
   "outputs": [
    {
     "name": "stdout",
     "output_type": "stream",
     "text": [
      "1981\n",
      "1982\n",
      "1983\n",
      "1984\n",
      "1985\n",
      "1986\n",
      "1987\n",
      "1988\n",
      "1989\n",
      "1990\n",
      "1991\n",
      "1992\n",
      "1993\n",
      "1994\n",
      "1995\n",
      "1996\n",
      "1997\n",
      "1998\n",
      "1999\n",
      "2000\n",
      "2001\n",
      "2002\n",
      "2003\n",
      "2004\n",
      "2005\n",
      "2006\n",
      "2007\n",
      "2008\n",
      "2009\n",
      "2010\n",
      "2011\n",
      "2012\n",
      "2013\n",
      "2014\n",
      "2015\n",
      "2016\n",
      "2017\n",
      "2018\n",
      "2019\n",
      "2020\n",
      "2021\n",
      "2022\n",
      "pc_predictor (2604, 60, 30)\n",
      "Time took 0.4 min\n"
     ]
    }
   ],
   "source": [
    "start = time.time()\n",
    "SMM = 10\n",
    "SDD = 16\n",
    "EMM = 12\n",
    "EDD = 16\n",
    "ntimestep = 60\n",
    "rw = 31 # running mean window\n",
    "half_rw = int(rw/2)\n",
    "lead_time = 14\n",
    "rw_1 = 7 # running mean window for predictor\n",
    "# 31-day running mean so 15 days before the central day + 2 weeks in advance + 7-day running mean + 30-day time steps\n",
    "\n",
    "# Import predictors if the predictors have been saved before\n",
    "nmode=5\n",
    "var_num=6\n",
    "pc_xr = xr.open_mfdataset(root_results+'PC_serie*.nc',concat_dim=\"mode\",combine=\"nested\")# Frozen({'time': 6273, 'mode': 30})\n",
    "\n",
    "date_target = datetime.strftime(datetime(year=SYY,month=SMM,day=SDD), \"%Y.%m.%d\")\n",
    "pc_predictor = np.ndarray((len(tp_target['tp']),ntimestep,nmode*var_num))\n",
    "it = 0\n",
    "ii = 0\n",
    "YYY = SYY\n",
    "while YYY < EYY+1:\n",
    "    date_start = datetime.strftime(datetime.strptime(date_target, \"%Y.%m.%d\")-timedelta(days=half_rw+lead_time+rw_1+ntimestep-1),\"%Y.%m.%d\")\n",
    "    date_end = datetime.strftime(datetime.strptime(date_target, \"%Y.%m.%d\")-timedelta(days=half_rw+lead_time+rw_1),\"%Y.%m.%d\")\n",
    "    #print(date_target,date_start,date_end,it)\n",
    "    #pc_predictor[ii,:,:] = pc_xr.sel(time = slice(date_start,date_end)).values\n",
    "    pc_predictor[ii,:,:] = pc_xr.sel(time = slice(date_start,date_end))['__xarray_dataarray_variable__'].values\n",
    "    if date_target == datetime.strftime(datetime(year=YYY,month=EMM,day=EDD),\"%Y.%m.%d\"):\n",
    "        YYY = YYY+1\n",
    "        date_target = datetime.strftime(datetime(year=YYY,month=SMM,day=SDD), \"%Y.%m.%d\")\n",
    "        it = 0\n",
    "        print(YYY)\n",
    "    else:\n",
    "        it = 1\n",
    "    ii = ii+1\n",
    "    date_target = datetime.strftime(datetime.strptime(date_target, \"%Y.%m.%d\")+timedelta(days=it),\"%Y.%m.%d\") \n",
    "    \n",
    "np.save(root_results+'all_predictors_pcs.npy',pc_predictor)\n",
    "print('pc_predictor_shape',pc_predictor.shape)\n",
    "    \n",
    "end = time.time()\n",
    "duration = end-start\n",
    "print(\"Time took {:3.1f} min\".format(duration/60))"
   ]
  },
  {
   "cell_type": "markdown",
   "id": "6e914f81-e84e-4041-9877-70e29bb4f4c8",
   "metadata": {},
   "source": [
    "## Split into train and validation"
   ]
  },
  {
   "cell_type": "code",
   "execution_count": 19,
   "id": "82365c79-b497-459d-a46c-8771f44c912c",
   "metadata": {},
   "outputs": [],
   "source": [
    "def get_train_test_val(data_predictor, data_target, test_frac, val_frac):\n",
    "    \"\"\"Splits data across periods into train, test, and validation\"\"\"\n",
    "    # assign the last int(-test_frac*len(tp_predictor)) rows to test data\n",
    "    test_predictor = data_predictor[int(-test_frac*len(data_target)):]\n",
    "    test_target = data_target[int(-test_frac*len(data_target)):]\n",
    "    \n",
    "    # assign the last int(-test_frac*len(tp_predictor)) from the remaining rows to validation data\n",
    "    remain_predictor = data_predictor[0:int(-test_frac*len(data_target))]\n",
    "    remain_target = data_target[0:int(-test_frac*len(data_target))]\n",
    "    val_predictor = remain_predictor[int(-val_frac*len(remain_predictor)):]\n",
    "    val_target = remain_target[int(-val_frac*len(remain_predictor)):]\n",
    "    \n",
    "    # the remaining rows are assigned to train data\n",
    "    train_predictor = remain_predictor[:int(-val_frac*len(remain_predictor))]\n",
    "    train_target = remain_target[:int(-val_frac*len(remain_predictor))]\n",
    "    return train_predictor, train_target, test_predictor, test_target, val_predictor, val_target"
   ]
  },
  {
   "cell_type": "code",
   "execution_count": 20,
   "id": "f989be89-e5e4-49e8-8c85-3538f4d1f9f3",
   "metadata": {},
   "outputs": [
    {
     "name": "stdout",
     "output_type": "stream",
     "text": [
      "(2604, 60, 30) (2604, 2)\n",
      "(1668, 60, 30) (1668, 2) (520, 60, 30) (520, 2) (416, 60, 30) (416, 2)\n"
     ]
    }
   ],
   "source": [
    "# define input and output data for LSTM\n",
    "y_all = keras.utils.to_categorical(target)\n",
    "X_all = np.load(root_results+'all_predictors_pcs.npy')\n",
    "print(X_all.shape,y_all.shape)\n",
    "\n",
    "# split the data\n",
    "train_X, train_y, test_X, test_y, val_X, val_y = get_train_test_val(X_all, y_all, test_frac=0.2, val_frac=0.2)\n",
    "print(train_X.shape, train_y.shape, test_X.shape, test_y.shape, val_X.shape, val_y.shape)"
   ]
  },
  {
   "cell_type": "code",
   "execution_count": 21,
   "id": "bcbce763-5567-452e-b562-cdc2eabf7252",
   "metadata": {},
   "outputs": [
    {
     "data": {
      "text/plain": [
       "<matplotlib.legend.Legend at 0x7fc8d0496430>"
      ]
     },
     "execution_count": 21,
     "metadata": {},
     "output_type": "execute_result"
    },
    {
     "data": {
      "image/png": "[encoded data removed]",
      "text/plain": [
       "<Figure size 432x288 with 1 Axes>"
      ]
     },
     "metadata": {
      "needs_background": "light"
     },
     "output_type": "display_data"
    }
   ],
   "source": [
    "ind = [0, 1, 2]\n",
    "names = [\"train\", \"val\", \"test\"]\n",
    "width = 0.75\n",
    "event_cnts = [np.unique(train_y[:,1],return_counts=True)[1][1],np.unique(val_y[:,1],return_counts=True)[1][1],np.unique(test_y[:,1],return_counts=True)[1][1]]\n",
    "nonevent_cnts = [np.unique(train_y[:,1],return_counts=True)[1][0],np.unique(val_y[:,1],return_counts=True)[1][0],np.unique(test_y[:,1],return_counts=True)[1][0]]\n",
    "\n",
    "p1 = plt.barh(ind, event_cnts, width)\n",
    "p2 = plt.barh(ind, nonevent_cnts, width, left=event_cnts)\n",
    "\n",
    "plt.yticks(ind, names)\n",
    "plt.ylabel(\"data set\")\n",
    "plt.xlabel(\"samples\")\n",
    "plt.title(\"Train/Validation/Test Splits\", fontsize=16)\n",
    "plt.legend([\"Event\", \"Non-event\"])"
   ]
  },
  {
   "cell_type": "markdown",
   "id": "9fbe9098-9118-4f32-b1f4-6570bf5fb23d",
   "metadata": {},
   "source": [
    "## Step 2: Building Stacked LSTM"
   ]
  },
  {
   "cell_type": "code",
   "execution_count": 22,
   "id": "2ced59cb-5be3-4d97-92da-12cff0d28572",
   "metadata": {},
   "outputs": [
    {
     "data": {
      "text/plain": [
       "(1668, 2)"
      ]
     },
     "execution_count": 22,
     "metadata": {},
     "output_type": "execute_result"
    }
   ],
   "source": [
    "train_y.shape"
   ]
  },
  {
   "cell_type": "code",
   "execution_count": 44,
   "id": "910953f2-4d26-4f9f-a22d-35104dd1b302",
   "metadata": {},
   "outputs": [
    {
     "name": "stdout",
     "output_type": "stream",
     "text": [
      "Model: \"sequential_3\"\n",
      "_________________________________________________________________\n",
      " Layer (type)                Output Shape              Param #   \n",
      "=================================================================\n",
      " lstm_12 (LSTM)              (None, 60, 60)            21840     \n",
      "                                                                 \n",
      " lstm_13 (LSTM)              (None, 60, 30)            10920     \n",
      "                                                                 \n",
      " lstm_14 (LSTM)              (None, 60, 10)            1640      \n",
      "                                                                 \n",
      " dropout_9 (Dropout)         (None, 60, 10)            0         \n",
      "                                                                 \n",
      " lstm_15 (LSTM)              (None, 5)                 320       \n",
      "                                                                 \n",
      " dropout_10 (Dropout)        (None, 5)                 0         \n",
      "                                                                 \n",
      " dense_6 (Dense)             (None, 6)                 36        \n",
      "                                                                 \n",
      " dropout_11 (Dropout)        (None, 6)                 0         \n",
      "                                                                 \n",
      " dense_7 (Dense)             (None, 2)                 14        \n",
      "                                                                 \n",
      "=================================================================\n",
      "Total params: 34,770\n",
      "Trainable params: 34,770\n",
      "Non-trainable params: 0\n",
      "_________________________________________________________________\n"
     ]
    }
   ],
   "source": [
    "#Initialize the RNN\n",
    "model = Sequential()\n",
    "\n",
    "# Add LSTM layer and dropout regularization       #30,1     \n",
    "model.add(LSTM(units = 60, return_sequences=True, input_shape = (train_X.shape[1], train_X.shape[2]),\n",
    "              kernel_regularizer=regularizers.l2(1)))\n",
    "# Add Regularization \n",
    "#model.add(Dropout(0.2))\n",
    "\n",
    "model.add(LSTM(units = 30, return_sequences=True, kernel_regularizer=regularizers.l2(0.01)))\n",
    "#model.add(Dropout(0.4))\n",
    "\n",
    "model.add(LSTM(units = 10, return_sequences=True))\n",
    "model.add(Dropout(0.4))\n",
    "\n",
    "model.add(LSTM(units = 5)) #default is tanh\n",
    "model.add(Dropout(0.5))\n",
    "\n",
    "model.add(Dense(units = 6,activation='relu'))\n",
    "model.add(Dropout(0.5))\n",
    "\n",
    "# Add output layer \n",
    "model.add(Dense(units = train_y.shape[1],activation='sigmoid')) #default is linear activation ##,activation='sigmoid'\n",
    "\n",
    "# Print model summary\n",
    "model.summary()"
   ]
  },
  {
   "cell_type": "code",
   "execution_count": 45,
   "id": "878fd19d-83d8-4b80-9945-21322f85b616",
   "metadata": {},
   "outputs": [
    {
     "data": {
      "text/plain": [
       "<keras.engine.sequential.Sequential at 0x7fc72017c3a0>"
      ]
     },
     "execution_count": 45,
     "metadata": {},
     "output_type": "execute_result"
    }
   ],
   "source": [
    "model"
   ]
  },
  {
   "cell_type": "code",
   "execution_count": 43,
   "id": "228b13df-77c1-42d0-8284-a17ff98c35ac",
   "metadata": {},
   "outputs": [],
   "source": [
    "#del model"
   ]
  },
  {
   "cell_type": "markdown",
   "id": "276e47ac-1706-431d-bc18-4f742d047885",
   "metadata": {},
   "source": [
    "## Step 3 : Compile, Train, Predict"
   ]
  },
  {
   "cell_type": "code",
   "execution_count": 46,
   "id": "03b6e02e-7fc1-4635-bebd-832082e4c0ef",
   "metadata": {},
   "outputs": [],
   "source": [
    "# callbacks \n",
    "callbacks_path = '/home/mpyrina/Lorentz_workshop/Results/' #'/home/zwu/Lorentz_workshop/test/checkpoint_test'\n",
    "metric = 'val_accuracy'\n",
    "callbacks_list = [\n",
    "    keras.callbacks.ModelCheckpoint(\n",
    "        filepath=callbacks_path,\n",
    "        monitor='val_accuracy',\n",
    "        save_best_only=True,\n",
    "    )\n",
    "]"
   ]
  },
  {
   "cell_type": "code",
   "execution_count": 47,
   "id": "a6379356-dd82-4860-b8e1-75a330b0633f",
   "metadata": {},
   "outputs": [
    {
     "name": "stdout",
     "output_type": "stream",
     "text": [
      "Epoch 1/50\n"
     ]
    },
    {
     "name": "stderr",
     "output_type": "stream",
     "text": [
      "WARNING:absl:Found untraced functions such as lstm_cell_12_layer_call_fn, lstm_cell_12_layer_call_and_return_conditional_losses, lstm_cell_13_layer_call_fn, lstm_cell_13_layer_call_and_return_conditional_losses, lstm_cell_14_layer_call_fn while saving (showing 5 of 8). These functions will not be directly callable after loading.\n"
     ]
    },
    {
     "name": "stdout",
     "output_type": "stream",
     "text": [
      "INFO:tensorflow:Assets written to: /home/mpyrina/Lorentz_workshop/Results/assets\n"
     ]
    },
    {
     "name": "stderr",
     "output_type": "stream",
     "text": [
      "INFO:tensorflow:Assets written to: /home/mpyrina/Lorentz_workshop/Results/assets\n"
     ]
    },
    {
     "name": "stdout",
     "output_type": "stream",
     "text": [
      "53/53 - 24s - loss: 51.5133 - accuracy: 0.7296 - val_loss: 48.7527 - val_accuracy: 0.6154 - 24s/epoch - 458ms/step\n",
      "Epoch 2/50\n"
     ]
    },
    {
     "name": "stderr",
     "output_type": "stream",
     "text": [
      "WARNING:absl:Found untraced functions such as lstm_cell_12_layer_call_fn, lstm_cell_12_layer_call_and_return_conditional_losses, lstm_cell_13_layer_call_fn, lstm_cell_13_layer_call_and_return_conditional_losses, lstm_cell_14_layer_call_fn while saving (showing 5 of 8). These functions will not be directly callable after loading.\n"
     ]
    },
    {
     "name": "stdout",
     "output_type": "stream",
     "text": [
      "INFO:tensorflow:Assets written to: /home/mpyrina/Lorentz_workshop/Results/assets\n"
     ]
    },
    {
     "name": "stderr",
     "output_type": "stream",
     "text": [
      "INFO:tensorflow:Assets written to: /home/mpyrina/Lorentz_workshop/Results/assets\n"
     ]
    },
    {
     "name": "stdout",
     "output_type": "stream",
     "text": [
      "53/53 - 17s - loss: 46.2990 - accuracy: 0.7692 - val_loss: 43.8209 - val_accuracy: 0.6538 - 17s/epoch - 313ms/step\n",
      "Epoch 3/50\n",
      "53/53 - 3s - loss: 41.5974 - accuracy: 0.7884 - val_loss: 39.3690 - val_accuracy: 0.6538 - 3s/epoch - 60ms/step\n",
      "Epoch 4/50\n",
      "53/53 - 3s - loss: 37.3478 - accuracy: 0.7920 - val_loss: 35.3441 - val_accuracy: 0.6538 - 3s/epoch - 60ms/step\n",
      "Epoch 5/50\n",
      "53/53 - 4s - loss: 33.5016 - accuracy: 0.7992 - val_loss: 31.7035 - val_accuracy: 0.6538 - 4s/epoch - 71ms/step\n",
      "Epoch 6/50\n",
      "53/53 - 4s - loss: 30.0366 - accuracy: 0.7968 - val_loss: 28.4151 - val_accuracy: 0.6538 - 4s/epoch - 71ms/step\n",
      "Epoch 7/50\n",
      "53/53 - 4s - loss: 26.8935 - accuracy: 0.8040 - val_loss: 25.4428 - val_accuracy: 0.6538 - 4s/epoch - 68ms/step\n",
      "Epoch 8/50\n",
      "53/53 - 4s - loss: 24.0581 - accuracy: 0.8022 - val_loss: 22.7574 - val_accuracy: 0.6538 - 4s/epoch - 68ms/step\n",
      "Epoch 9/50\n",
      "53/53 - 4s - loss: 21.4875 - accuracy: 0.8159 - val_loss: 20.3349 - val_accuracy: 0.6538 - 4s/epoch - 70ms/step\n",
      "Epoch 10/50\n",
      "53/53 - 3s - loss: 19.1685 - accuracy: 0.8088 - val_loss: 18.1526 - val_accuracy: 0.6538 - 3s/epoch - 65ms/step\n",
      "Epoch 11/50\n",
      "53/53 - 4s - loss: 17.0921 - accuracy: 0.8159 - val_loss: 16.1900 - val_accuracy: 0.6538 - 4s/epoch - 73ms/step\n",
      "Epoch 12/50\n",
      "53/53 - 4s - loss: 15.2005 - accuracy: 0.8171 - val_loss: 14.4278 - val_accuracy: 0.6538 - 4s/epoch - 68ms/step\n",
      "Epoch 13/50\n",
      "53/53 - 4s - loss: 13.5082 - accuracy: 0.8183 - val_loss: 12.8550 - val_accuracy: 0.6538 - 4s/epoch - 73ms/step\n",
      "Epoch 14/50\n",
      "53/53 - 4s - loss: 11.9955 - accuracy: 0.8249 - val_loss: 11.4252 - val_accuracy: 0.6538 - 4s/epoch - 72ms/step\n",
      "Epoch 15/50\n",
      "53/53 - 4s - loss: 10.6299 - accuracy: 0.8171 - val_loss: 10.1503 - val_accuracy: 0.6538 - 4s/epoch - 73ms/step\n",
      "Epoch 16/50\n",
      "53/53 - 3s - loss: 9.4135 - accuracy: 0.8249 - val_loss: 9.0042 - val_accuracy: 0.6538 - 3s/epoch - 65ms/step\n",
      "Epoch 17/50\n",
      "53/53 - 3s - loss: 8.3216 - accuracy: 0.8273 - val_loss: 7.9900 - val_accuracy: 0.6538 - 3s/epoch - 62ms/step\n",
      "Epoch 18/50\n",
      "53/53 - 4s - loss: 7.3439 - accuracy: 0.8471 - val_loss: 7.0843 - val_accuracy: 0.6466 - 4s/epoch - 70ms/step\n",
      "Epoch 19/50\n",
      "53/53 - 4s - loss: 6.4765 - accuracy: 0.8357 - val_loss: 6.2558 - val_accuracy: 0.6010 - 4s/epoch - 70ms/step\n",
      "Epoch 20/50\n",
      "53/53 - 4s - loss: 5.7063 - accuracy: 0.8405 - val_loss: 5.5724 - val_accuracy: 0.6010 - 4s/epoch - 69ms/step\n",
      "Epoch 21/50\n"
     ]
    },
    {
     "name": "stderr",
     "output_type": "stream",
     "text": [
      "WARNING:absl:Found untraced functions such as lstm_cell_12_layer_call_fn, lstm_cell_12_layer_call_and_return_conditional_losses, lstm_cell_13_layer_call_fn, lstm_cell_13_layer_call_and_return_conditional_losses, lstm_cell_14_layer_call_fn while saving (showing 5 of 8). These functions will not be directly callable after loading.\n"
     ]
    },
    {
     "name": "stdout",
     "output_type": "stream",
     "text": [
      "INFO:tensorflow:Assets written to: /home/mpyrina/Lorentz_workshop/Results/assets\n"
     ]
    },
    {
     "name": "stderr",
     "output_type": "stream",
     "text": [
      "INFO:tensorflow:Assets written to: /home/mpyrina/Lorentz_workshop/Results/assets\n"
     ]
    },
    {
     "name": "stdout",
     "output_type": "stream",
     "text": [
      "53/53 - 18s - loss: 5.0377 - accuracy: 0.8387 - val_loss: 4.9328 - val_accuracy: 0.7115 - 18s/epoch - 332ms/step\n",
      "Epoch 22/50\n",
      "53/53 - 4s - loss: 4.4416 - accuracy: 0.8483 - val_loss: 4.3705 - val_accuracy: 0.6635 - 4s/epoch - 68ms/step\n",
      "Epoch 23/50\n",
      "53/53 - 4s - loss: 3.9148 - accuracy: 0.8381 - val_loss: 3.8446 - val_accuracy: 0.6058 - 4s/epoch - 69ms/step\n",
      "Epoch 24/50\n",
      "53/53 - 4s - loss: 3.4500 - accuracy: 0.8387 - val_loss: 3.4422 - val_accuracy: 0.7091 - 4s/epoch - 74ms/step\n",
      "Epoch 25/50\n",
      "53/53 - 4s - loss: 3.0219 - accuracy: 0.8471 - val_loss: 3.0943 - val_accuracy: 0.6346 - 4s/epoch - 72ms/step\n",
      "Epoch 26/50\n",
      "53/53 - 4s - loss: 2.6746 - accuracy: 0.8363 - val_loss: 2.7577 - val_accuracy: 0.6899 - 4s/epoch - 72ms/step\n",
      "Epoch 27/50\n",
      "53/53 - 4s - loss: 2.3778 - accuracy: 0.8441 - val_loss: 2.4938 - val_accuracy: 0.6322 - 4s/epoch - 76ms/step\n",
      "Epoch 28/50\n",
      "53/53 - 4s - loss: 2.0790 - accuracy: 0.8579 - val_loss: 2.2360 - val_accuracy: 0.6683 - 4s/epoch - 71ms/step\n",
      "Epoch 29/50\n",
      "53/53 - 4s - loss: 1.8514 - accuracy: 0.8477 - val_loss: 2.0447 - val_accuracy: 0.5865 - 4s/epoch - 75ms/step\n",
      "Epoch 30/50\n",
      "53/53 - 4s - loss: 1.6565 - accuracy: 0.8519 - val_loss: 1.8207 - val_accuracy: 0.6755 - 4s/epoch - 71ms/step\n",
      "Epoch 31/50\n",
      "53/53 - 4s - loss: 1.4768 - accuracy: 0.8543 - val_loss: 1.6792 - val_accuracy: 0.6274 - 4s/epoch - 73ms/step\n",
      "Epoch 32/50\n",
      "53/53 - 4s - loss: 1.3185 - accuracy: 0.8471 - val_loss: 1.5164 - val_accuracy: 0.6875 - 4s/epoch - 75ms/step\n",
      "Epoch 33/50\n",
      "53/53 - 3s - loss: 1.1787 - accuracy: 0.8597 - val_loss: 1.3983 - val_accuracy: 0.6659 - 3s/epoch - 65ms/step\n",
      "Epoch 34/50\n",
      "53/53 - 4s - loss: 1.0615 - accuracy: 0.8627 - val_loss: 1.2805 - val_accuracy: 0.7019 - 4s/epoch - 75ms/step\n",
      "Epoch 35/50\n",
      "53/53 - 4s - loss: 0.9545 - accuracy: 0.8633 - val_loss: 1.2310 - val_accuracy: 0.6755 - 4s/epoch - 72ms/step\n",
      "Epoch 36/50\n"
     ]
    },
    {
     "name": "stderr",
     "output_type": "stream",
     "text": [
      "WARNING:absl:Found untraced functions such as lstm_cell_12_layer_call_fn, lstm_cell_12_layer_call_and_return_conditional_losses, lstm_cell_13_layer_call_fn, lstm_cell_13_layer_call_and_return_conditional_losses, lstm_cell_14_layer_call_fn while saving (showing 5 of 8). These functions will not be directly callable after loading.\n"
     ]
    },
    {
     "name": "stdout",
     "output_type": "stream",
     "text": [
      "INFO:tensorflow:Assets written to: /home/mpyrina/Lorentz_workshop/Results/assets\n"
     ]
    },
    {
     "name": "stderr",
     "output_type": "stream",
     "text": [
      "INFO:tensorflow:Assets written to: /home/mpyrina/Lorentz_workshop/Results/assets\n"
     ]
    },
    {
     "name": "stdout",
     "output_type": "stream",
     "text": [
      "53/53 - 17s - loss: 0.9081 - accuracy: 0.8363 - val_loss: 1.1284 - val_accuracy: 0.7236 - 17s/epoch - 312ms/step\n",
      "Epoch 37/50\n",
      "53/53 - 4s - loss: 0.8206 - accuracy: 0.8609 - val_loss: 1.1172 - val_accuracy: 0.6274 - 4s/epoch - 68ms/step\n",
      "Epoch 38/50\n",
      "53/53 - 4s - loss: 0.7512 - accuracy: 0.8543 - val_loss: 1.0454 - val_accuracy: 0.6803 - 4s/epoch - 68ms/step\n",
      "Epoch 39/50\n",
      "53/53 - 4s - loss: 0.7050 - accuracy: 0.8591 - val_loss: 0.9736 - val_accuracy: 0.7212 - 4s/epoch - 76ms/step\n",
      "Epoch 40/50\n",
      "53/53 - 4s - loss: 0.6619 - accuracy: 0.8567 - val_loss: 0.9844 - val_accuracy: 0.6683 - 4s/epoch - 67ms/step\n",
      "Epoch 41/50\n",
      "53/53 - 3s - loss: 0.6253 - accuracy: 0.8567 - val_loss: 1.0667 - val_accuracy: 0.5024 - 3s/epoch - 62ms/step\n",
      "Epoch 42/50\n",
      "53/53 - 4s - loss: 0.6120 - accuracy: 0.8489 - val_loss: 0.9921 - val_accuracy: 0.4928 - 4s/epoch - 75ms/step\n",
      "Epoch 43/50\n",
      "53/53 - 4s - loss: 0.5878 - accuracy: 0.8489 - val_loss: 0.9242 - val_accuracy: 0.6178 - 4s/epoch - 75ms/step\n",
      "Epoch 44/50\n",
      "53/53 - 4s - loss: 0.5629 - accuracy: 0.8681 - val_loss: 0.9463 - val_accuracy: 0.6082 - 4s/epoch - 75ms/step\n",
      "Epoch 45/50\n",
      "53/53 - 4s - loss: 0.5289 - accuracy: 0.8681 - val_loss: 0.8770 - val_accuracy: 0.6082 - 4s/epoch - 74ms/step\n",
      "Epoch 46/50\n",
      "53/53 - 4s - loss: 0.5074 - accuracy: 0.8561 - val_loss: 0.8909 - val_accuracy: 0.5938 - 4s/epoch - 73ms/step\n",
      "Epoch 47/50\n",
      "53/53 - 4s - loss: 0.4835 - accuracy: 0.8753 - val_loss: 0.8332 - val_accuracy: 0.7139 - 4s/epoch - 76ms/step\n",
      "Epoch 48/50\n",
      "53/53 - 4s - loss: 0.4922 - accuracy: 0.8699 - val_loss: 0.8150 - val_accuracy: 0.7163 - 4s/epoch - 74ms/step\n",
      "Epoch 49/50\n",
      "53/53 - 4s - loss: 0.4793 - accuracy: 0.8789 - val_loss: 0.8140 - val_accuracy: 0.6827 - 4s/epoch - 71ms/step\n",
      "Epoch 50/50\n",
      "53/53 - 4s - loss: 0.4666 - accuracy: 0.8591 - val_loss: 0.8657 - val_accuracy: 0.5865 - 4s/epoch - 77ms/step\n"
     ]
    }
   ],
   "source": [
    "from keras.optimizers import SGD\n",
    "from keras.optimizers import Adam\n",
    "from sklearn.metrics import brier_score_loss\n",
    "warnings.filterwarnings(\"ignore\")\n",
    "\n",
    "# Compile the model  #model.compile(optimizer='adam',loss='categorical_crossentropy',metrics=['accuracy']) #'binary_crossentropy'\n",
    "model.compile(optimizer=Adam(lr=0.0001), loss = 'binary_crossentropy', metrics=['accuracy']) #metrics=[tf.keras.metrics.TruePositives()] , metrics=['accuracy']\n",
    "\n",
    "#model.compile(optimizer=SGD(lr=0.0001, decay=1e-6, momentum=0.9, nesterov=True),loss='binary_crossentropy') #,\n",
    "#metrics=[tf.keras.metrics.BinaryAccuracy(name=\"binary_accuracy\", dtype=None, threshold=0.5)])\n",
    "\n",
    "#Create a class weight dictionary to help if the classes are unbalanced\n",
    "def class_weight_creator(Y):\n",
    "    class_dict = {}\n",
    "    weights = np.max(np.sum(Y, axis=0)) / np.sum(Y, axis=0)\n",
    "    for i in range( Y.shape[-1] ):\n",
    "        class_dict[i] = weights[i]\n",
    "        \n",
    "    return class_dict\n",
    "\n",
    "class_weight = class_weight_creator(train_y)\n",
    "\n",
    "\n",
    "#Train model\n",
    "#history=model.fit(train_predictor, train_target, epochs = 50, batch_size= 32) \n",
    "history = model.fit(train_X, train_y, epochs=50, batch_size=32, shuffle= True,\n",
    "                    callbacks=callbacks_list, validation_data=(val_X, val_y), \n",
    "                    verbose=2) #, class_weight=class_weight\n"
   ]
  },
  {
   "cell_type": "code",
   "execution_count": 48,
   "id": "8cd22b65-ce46-4f6d-bc18-db74d4f4c265",
   "metadata": {},
   "outputs": [
    {
     "name": "stdout",
     "output_type": "stream",
     "text": [
      "17/17 [==============================] - 2s 18ms/step\n",
      "[[0.40018088 0.4949921 ]\n",
      " [0.39985266 0.49511835]\n",
      " [0.3995572  0.49522263]\n",
      " [0.39928696 0.49530637]\n",
      " [0.39903018 0.49536818]\n",
      " [0.39879483 0.4954047 ]\n",
      " [0.398587   0.49541354]\n",
      " [0.3984088  0.49539116]\n",
      " [0.3982598  0.4953371 ]\n",
      " [0.39813542 0.49525166]\n",
      " [0.39804783 0.49513215]\n",
      " [0.39801303 0.49497634]\n",
      " [0.39804614 0.49478167]\n",
      " [0.39815852 0.49454576]\n",
      " [0.39835578 0.49426937]\n",
      " [0.39864832 0.49395388]\n",
      " [0.3990619  0.49359632]\n",
      " [0.39964053 0.49318644]\n",
      " [0.40039206 0.49272037]\n",
      " [0.40134418 0.49218306]\n",
      " [0.40256917 0.49154308]\n",
      " [0.4044523  0.49100384]\n",
      " [0.40680546 0.49038032]\n",
      " [0.40961227 0.48963815]\n",
      " [0.3964245  0.4931401 ]\n",
      " [0.3983847  0.49261713]\n",
      " [0.4017985  0.49170846]\n",
      " [0.40768555 0.4901474 ]\n",
      " [0.4179683  0.48743784]\n",
      " [0.43468082 0.48307437]\n",
      " [0.46683463 0.46570593]\n",
      " [0.52376175 0.43650472]\n",
      " [0.6133095  0.38962117]\n",
      " [0.6939047  0.34021366]\n",
      " [0.7582515  0.29288352]\n",
      " [0.8133125  0.249116  ]\n",
      " [0.8567836  0.21121421]\n",
      " [0.8887912  0.18045536]\n",
      " [0.90927535 0.1589595 ]\n",
      " [0.9216062  0.14512135]\n",
      " [0.9295863  0.13573013]\n",
      " [0.93496996 0.12917474]\n",
      " [0.93870425 0.12451363]\n",
      " [0.9412232  0.12131358]\n",
      " [0.9428129  0.1192733 ]\n",
      " [0.94362557 0.11823189]\n",
      " [0.9438701  0.11793366]\n",
      " [0.94343394 0.11853303]\n",
      " [0.9424568  0.11984147]\n",
      " [0.94100094 0.12176507]\n",
      " [0.93925965 0.12403788]\n",
      " [0.9372116  0.12667468]\n",
      " [0.9349204  0.12958139]\n",
      " [0.93228155 0.1328725 ]\n",
      " [0.929541   0.13623074]\n",
      " [0.9269257  0.13938087]\n",
      " [0.9242831  0.14250784]\n",
      " [0.9216961  0.14551523]\n",
      " [0.9193455  0.14820206]\n",
      " [0.917199   0.1506147 ]\n",
      " [0.9155312  0.15245424]\n",
      " [0.9150954  0.15290016]\n",
      " [0.9164148  0.15138523]\n",
      " [0.9192511  0.14815031]\n",
      " [0.9225254  0.14437258]\n",
      " [0.9261495  0.14012623]\n",
      " [0.93010443 0.13540448]\n",
      " [0.9341183  0.13050576]\n",
      " [0.9377741  0.12593806]\n",
      " [0.94072855 0.12216482]\n",
      " [0.94305193 0.11914166]\n",
      " [0.94499093 0.11657658]\n",
      " [0.94659233 0.11442746]\n",
      " [0.9478226  0.11275729]\n",
      " [0.94861925 0.11166819]\n",
      " [0.9489982  0.1111511 ]\n",
      " [0.9490783  0.11104733]\n",
      " [0.94903713 0.11111181]\n",
      " [0.9488624  0.11136195]\n",
      " [0.948445   0.111948  ]\n",
      " [0.9478536  0.11277258]\n",
      " [0.94732153 0.11351237]\n",
      " [0.94690454 0.11409203]\n",
      " [0.94660103 0.11451465]\n",
      " [0.94630206 0.11492974]\n",
      " [0.9460547  0.11527287]\n",
      " [0.95631725 0.10065673]\n",
      " [0.9568307  0.09990043]\n",
      " [0.95729053 0.09922025]\n",
      " [0.95772403 0.09857658]\n",
      " [0.9581807  0.09789584]\n",
      " [0.9586602  0.09717857]\n",
      " [0.959149   0.09644426]\n",
      " [0.95957494 0.09580206]\n",
      " [0.9598988  0.09531236]\n",
      " [0.9601638  0.09491105]\n",
      " [0.9603851  0.09457545]\n",
      " [0.9605699  0.09429485]\n",
      " [0.96075004 0.09402116]\n",
      " [0.96090025 0.09379278]]\n"
     ]
    }
   ],
   "source": [
    "#predict using test data (new data)\n",
    "prediction = model.predict(test_X)\n",
    "print(prediction[0:100])"
   ]
  },
  {
   "cell_type": "code",
   "execution_count": 36,
   "id": "0bfe79f5-c370-4402-91cc-a5b4f20a6511",
   "metadata": {},
   "outputs": [
    {
     "data": {
      "text/plain": [
       "<matplotlib.legend.Legend at 0x7fc7d81d4af0>"
      ]
     },
     "execution_count": 36,
     "metadata": {},
     "output_type": "execute_result"
    },
    {
     "data": {
      "image/png": "[encoded data removed]",
      "text/plain": [
       "<Figure size 1152x288 with 2 Axes>"
      ]
     },
     "metadata": {
      "needs_background": "light"
     },
     "output_type": "display_data"
    }
   ],
   "source": [
    "#Result with shufle=False\n",
    "\n",
    "train_acc = history.history['accuracy']\n",
    "val_acc = history.history['val_accuracy']\n",
    "train_loss = history.history['loss']\n",
    "val_loss = history.history['val_loss']\n",
    "fig, (ax1,ax2) = plt.subplots(1,2, figsize=plt.figaspect(0.25))\n",
    "ax1.plot(train_acc, label='Training Accuracy')\n",
    "ax1.plot(val_acc, label='Validation Accuracy')\n",
    "ax1.set_title('Accuracy')\n",
    "ax1.set_xlabel('Epoch')\n",
    "ax1.set_ylabel('Accuracy')\n",
    "ax1.set_ylim(0,1.1)\n",
    "ax1.legend()\n",
    "\n",
    "ax2.plot(train_loss, label='Training loss')\n",
    "ax2.plot(val_loss, label='Validation loss')\n",
    "ax2.set_title('Loss')\n",
    "ax2.set_xlabel('Epoch')\n",
    "ax2.set_ylabel('Loss')\n",
    "ax2.legend()"
   ]
  },
  {
   "cell_type": "code",
   "execution_count": 49,
   "id": "19230b70-bd1d-4e49-988e-ef76bb44c053",
   "metadata": {},
   "outputs": [
    {
     "data": {
      "text/plain": [
       "<matplotlib.legend.Legend at 0x7fc6a0a7cb50>"
      ]
     },
     "execution_count": 49,
     "metadata": {},
     "output_type": "execute_result"
    },
    {
     "data": {
      "image/png": "[encoded data removed]",
      "text/plain": [
       "<Figure size 1152x288 with 2 Axes>"
      ]
     },
     "metadata": {
      "needs_background": "light"
     },
     "output_type": "display_data"
    }
   ],
   "source": [
    "#Result with shufle=True\n",
    "\n",
    "train_acc = history.history['accuracy']\n",
    "val_acc = history.history['val_accuracy']\n",
    "train_loss = history.history['loss']\n",
    "val_loss = history.history['val_loss']\n",
    "fig, (ax1,ax2) = plt.subplots(1,2, figsize=plt.figaspect(0.25))\n",
    "ax1.plot(train_acc, label='Training Accuracy')\n",
    "ax1.plot(val_acc, label='Validation Accuracy')\n",
    "ax1.set_title('Accuracy')\n",
    "ax1.set_xlabel('Epoch')\n",
    "ax1.set_ylabel('Accuracy')\n",
    "ax1.set_ylim(0,1.1)\n",
    "ax1.legend()\n",
    "\n",
    "ax2.plot(train_loss, label='Training loss')\n",
    "ax2.plot(val_loss, label='Validation loss')\n",
    "ax2.set_title('Loss')\n",
    "ax2.set_xlabel('Epoch')\n",
    "ax2.set_ylabel('Loss')\n",
    "ax2.legend()"
   ]
  },
  {
   "cell_type": "code",
   "execution_count": 50,
   "id": "b2af63e9-61e5-403c-9be8-046bca585749",
   "metadata": {},
   "outputs": [
    {
     "name": "stdout",
     "output_type": "stream",
     "text": [
      "17/17 [==============================] - 0s 16ms/step\n",
      "17/17 [==============================] - 0s 16ms/step\n",
      "Recall: 0.77\n",
      "Precision: 0.59\n",
      "F1-score: 0.67\n",
      "Accuracy: 0.73\n",
      "Brier score:0.18311662276265434\n"
     ]
    },
    {
     "data": {
      "text/plain": [
       "[<matplotlib.lines.Line2D at 0x7fc6a0946dc0>]"
      ]
     },
     "execution_count": 50,
     "metadata": {},
     "output_type": "execute_result"
    },
    {
     "data": {
      "image/png": "[encoded data removed]",
      "text/plain": [
       "<Figure size 432x288 with 1 Axes>"
      ]
     },
     "metadata": {
      "needs_background": "light"
     },
     "output_type": "display_data"
    }
   ],
   "source": [
    "# evaluation\n",
    "from sklearn.metrics import brier_score_loss\n",
    "from sklearn.calibration import calibration_curve\n",
    "test_predict = model.predict(test_X)\n",
    "y_pred = np.argmax(model.predict(test_X),axis=1)\n",
    "print('Recall: '+str(round(recall_score(test_y[:,1],y_pred),2)))\n",
    "print('Precision: '+str(round(precision_score(test_y[:,1],y_pred),2)))\n",
    "print('F1-score: '+str(round(f1_score(test_y[:,1],y_pred),2)))\n",
    "print('Accuracy: '+str(round(accuracy_score(test_y[:,1],y_pred),2)))\n",
    "print('Brier score:' +str(brier_score_loss(test_y[0:-20,1], test_predict[0:-20,1])))\n",
    "\n",
    "calib_y, calib_x = calibration_curve(test_y[:,1],test_predict[:,1],n_bins=10)\n",
    "plt.plot(calib_y, calib_x, marker='o', color=\"darkorange\", label='LSTMatt')\n",
    "plt.plot([0, 1], [0, 1], color=\"navy\", linestyle=\"--\", label='Best score')"
   ]
  },
  {
   "cell_type": "code",
   "execution_count": 51,
   "id": "8cfb363a-32d4-4a7e-9d59-fcee8f6e0b56",
   "metadata": {},
   "outputs": [
    {
     "name": "stdout",
     "output_type": "stream",
     "text": [
      "17/17 [==============================] - 0s 19ms/step\n",
      "0.7987321130837868\n",
      "(500,) (148,) (148,) (148,)\n"
     ]
    },
    {
     "data": {
      "image/png": "[encoded data removed]",
      "text/plain": [
       "<Figure size 432x288 with 1 Axes>"
      ]
     },
     "metadata": {
      "needs_background": "light"
     },
     "output_type": "display_data"
    },
    {
     "name": "stdout",
     "output_type": "stream",
     "text": [
      "17/17 [==============================] - 0s 17ms/step\n",
      "(500,) (473,) (473,)\n",
      "f1=0.689 auc=0.649\n"
     ]
    },
    {
     "data": {
      "image/png": "[encoded data removed]",
      "text/plain": [
       "<Figure size 432x288 with 1 Axes>"
      ]
     },
     "metadata": {
      "needs_background": "light"
     },
     "output_type": "display_data"
    }
   ],
   "source": [
    "from sklearn.metrics import roc_curve\n",
    "from sklearn.metrics import roc_auc_score\n",
    "from sklearn.metrics import precision_recall_curve\n",
    "from sklearn.metrics import auc\n",
    "yprob = model.predict(test_X)\n",
    "yprob = yprob[0:-20,1]\n",
    "testy = test_y[0:-20,1]\n",
    "lr_auc = roc_auc_score(testy, yprob)\n",
    "print(lr_auc)\n",
    "lr_fpr, lr_tpr, thredhs = roc_curve(testy, yprob)\n",
    "print(testy.shape,lr_fpr.shape, lr_tpr.shape,thredhs.shape)\n",
    "# plot the roc curve for the model\n",
    "plt.plot(lr_fpr, lr_tpr, marker='.', color=\"darkorange\", label='LSTMatt')\n",
    "plt.plot([0, 1], [0, 1], color=\"navy\", linestyle=\"--\", label='No Skill')\n",
    "# axis labels\n",
    "plt.xlabel('False Positive Rate')\n",
    "plt.ylabel('True Positive Rate')\n",
    "# show the legend\n",
    "plt.legend()\n",
    "# show the plot\n",
    "plt.show()\n",
    "\n",
    "Y_predict = model.predict(test_X)\n",
    "yhat = np.argmax(Y_predict,axis=1)\n",
    "yhat = yhat[0:-20]\n",
    "lr_precision, lr_recall, _ = precision_recall_curve(testy, yprob)\n",
    "lr_f1, lr_auc = f1_score(testy, yhat), auc(lr_recall, lr_precision)\n",
    "print(testy.shape,lr_recall.shape, lr_precision.shape)\n",
    "# summarize scores\n",
    "print('f1=%.3f auc=%.3f' % (lr_f1, lr_auc))\n",
    "# plot the precision-recall curves\n",
    "no_skill = len(testy[testy==1]) / len(testy)\n",
    "plt.plot(lr_recall, lr_precision, marker='.', color=\"darkorange\", label='LSTMatt')\n",
    "plt.plot([0, 1], [no_skill, no_skill], color=\"navy\", linestyle='--', label='No Skill')\n",
    "# axis labels\n",
    "plt.xlabel('Recall')\n",
    "plt.ylabel('Precision')\n",
    "# show the legend\n",
    "plt.legend()\n",
    "# show the plot\n",
    "plt.show()"
   ]
  },
  {
   "cell_type": "code",
   "execution_count": null,
   "id": "f04d98c1-05f7-4db0-bbbd-d8cb43f93a26",
   "metadata": {},
   "outputs": [],
   "source": []
  }
 ],
 "metadata": {
  "kernelspec": {
   "display_name": "Python (iacpy3_2022)",
   "language": "python",
   "name": "iacpy3_2022"
  },
  "language_info": {
   "codemirror_mode": {
    "name": "ipython",
    "version": 3
   },
   "file_extension": ".py",
   "mimetype": "text/x-python",
   "name": "python",
   "nbconvert_exporter": "python",
   "pygments_lexer": "ipython3",
   "version": "3.9.10"
  }
 },
 "nbformat": 4,
 "nbformat_minor": 5
}
