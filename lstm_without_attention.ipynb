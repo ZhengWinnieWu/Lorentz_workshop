{
 "cells": [
  {
   "cell_type": "code",
   "execution_count": 3,
   "id": "b14832ed-e356-48f7-9e72-64eebb0499db",
   "metadata": {},
   "outputs": [],
   "source": [
    "%matplotlib inline\n",
    "from netCDF4 import Dataset as ncread\n",
    "import netCDF4 as nc\n",
    "import numpy as np\n",
    "from scipy.io import loadmat\n",
    "import pandas as pd\n",
    "import h5py\n",
    "import math\n",
    "import pandas as pd\n",
    "from datetime import datetime\n",
    "from itertools import product\n",
    "from cftime import DatetimeNoLeap\n",
    "import xarray as xr\n",
    "from eofs.standard import Eof"
   ]
  },
  {
   "cell_type": "code",
   "execution_count": 4,
   "id": "5d9670ec-9cd9-4a08-a858-dd865864b45c",
   "metadata": {},
   "outputs": [],
   "source": [
    "import matplotlib.pyplot as plt\n",
    "from matplotlib import rcParams #For changing text properties\n",
    "import cmocean #A package with beautiful colormaps\n",
    "import matplotlib.path as mpath\n",
    "\n",
    "from sklearn.linear_model import LogisticRegression\n",
    "from sklearn.metrics import accuracy_score\n",
    "from sklearn.metrics import f1_score\n",
    "from sklearn.metrics import precision_score\n",
    "from sklearn.metrics import recall_score\n",
    "from sklearn.utils import shuffle"
   ]
  },
  {
   "cell_type": "code",
   "execution_count": 5,
   "id": "0fb3a7c1-35c7-4493-ac22-3f4abfc3a342",
   "metadata": {},
   "outputs": [],
   "source": [
    "from datetime import datetime \n",
    "from datetime import timedelta\n",
    "from datetime import date\n",
    "import warnings\n",
    "warnings.filterwarnings(\"ignore\")"
   ]
  },
  {
   "cell_type": "code",
   "execution_count": null,
   "id": "a317c7de-96b6-4ba7-898e-f62d6697deca",
   "metadata": {},
   "outputs": [],
   "source": [
    "##pip install tensorflow"
   ]
  },
  {
   "cell_type": "code",
   "execution_count": 6,
   "id": "802f0104-6ed5-4a1c-b6f1-1425a253f5a3",
   "metadata": {},
   "outputs": [
    {
     "name": "stderr",
     "output_type": "stream",
     "text": [
      "2022-08-30 14:50:05.974903: W tensorflow/stream_executor/platform/default/dso_loader.cc:64] Could not load dynamic library 'libcudart.so.11.0'; dlerror: libcudart.so.11.0: cannot open shared object file: No such file or directory\n",
      "2022-08-30 14:50:05.974934: I tensorflow/stream_executor/cuda/cudart_stub.cc:29] Ignore above cudart dlerror if you do not have a GPU set up on your machine.\n"
     ]
    }
   ],
   "source": [
    "import tensorflow as tf    \n",
    "#tf.compat.v1.disable_v2_behavior() # <-- HERE !\n",
    "\n",
    "from tensorflow import keras\n",
    "from tensorflow.keras import layers\n",
    "from tensorflow.keras import Input\n",
    "from tensorflow.keras.models import Model\n",
    "from tensorflow.keras.callbacks import ModelCheckpoint\n",
    "from tensorflow.keras import regularizers\n",
    "import tensorflow.keras.backend as K\n",
    "from tensorflow.keras.utils import to_categorical\n",
    "from tensorflow.keras.layers import Dropout, Activation, Reshape, Flatten, LSTM, Dense, Dropout, Embedding, Bidirectional, GRU\n",
    "from tensorflow.keras import Sequential\n",
    "from tensorflow.keras import initializers, regularizers\n",
    "from tensorflow.keras import optimizers\n",
    "from tensorflow.keras import constraints\n",
    "from tensorflow.keras.layers import Layer, InputSpec"
   ]
  },
  {
   "cell_type": "code",
   "execution_count": 7,
   "id": "4fe8826c-b572-4b16-a7d1-8ad60f14b4c0",
   "metadata": {},
   "outputs": [],
   "source": [
    "root_data='/s2s/mpyrina/Lorentz_Workshop/Data/'\n",
    "root_results='/s2s/mpyrina/Lorentz_Workshop/Results/'"
   ]
  },
  {
   "cell_type": "code",
   "execution_count": null,
   "id": "273681d3-3a8c-4e63-9c40-79fdf7dbe89c",
   "metadata": {},
   "outputs": [],
   "source": [
    "pwd"
   ]
  },
  {
   "cell_type": "code",
   "execution_count": null,
   "id": "5e754063-4d7e-4b99-983a-166e891d2163",
   "metadata": {},
   "outputs": [],
   "source": [
    "exec(open('/home/mpyrina/Notebooks/Lorentz_workshop/L_functions.py').read())"
   ]
  },
  {
   "cell_type": "markdown",
   "id": "b12e4516-c491-4c85-89f9-84237eb7ad9a",
   "metadata": {
    "tags": []
   },
   "source": [
    "# Data\n",
    "## Target data: index time series contaning only OND values"
   ]
  },
  {
   "cell_type": "code",
   "execution_count": 31,
   "id": "c512f274-7108-4896-b41e-745984a42f9b",
   "metadata": {},
   "outputs": [
    {
     "name": "stdout",
     "output_type": "stream",
     "text": [
      "Frozen({'latitude': 28, 'longitude': 31})\n",
      "value of the 33 percentile 0.00027705061818355853\n",
      "tp index <xarray.Dataset>\n",
      "Dimensions:   (time: 3864)\n",
      "Coordinates:\n",
      "  * time      (time) datetime64[ns] 1980-10-01 1980-10-02 ... 2021-12-31\n",
      "    quantile  float64 0.33\n",
      "Data variables:\n",
      "    tp        (time) int64 dask.array<chunksize=(3863,), meta=np.ndarray>\n"
     ]
    },
    {
     "data": {
      "image/png": "[encoded data removed]",
      "text/plain": [
       "<Figure size 432x288 with 2 Axes>"
      ]
     },
     "metadata": {
      "needs_background": "light"
     },
     "output_type": "display_data"
    }
   ],
   "source": [
    "# Import regional mask\n",
    "file = 'era5_hoa_dry_mask_2deg.nc' #0.25\n",
    "\n",
    "mask=xr.open_mfdataset(root_data+file,\n",
    "                       combine='by_coords',parallel=True)\n",
    "mask_nan=mask.where(mask==1) #keep the values=1 and mask the rest with nan\n",
    "mask_nan.tp.plot()\n",
    "print(mask_nan.sizes)\n",
    "\n",
    "# Calculate the spatial mean of the tp file after applying the spatial mask\n",
    "file=xr.open_mfdataset(root_data+'era5_tp_1959-2021_1_12_daily_2.0deg.nc',\n",
    "                        combine='by_coords',parallel=True)\n",
    "tp_dim=file.sel(longitude=slice(10,70),latitude=slice(24,-30))\n",
    "tp_series=np.multiply(mask_nan,tp_dim).mean(dim='latitude',skipna=True).mean(dim='longitude',skipna=True)\n",
    "\n",
    "# Calculate 33 percentile\n",
    "# Create daily values equal to a 31 day rolling. Select OND 2000-2020 data to decide the quantile threshold\n",
    "tp_rol_q=tp_series.rolling(time=31, center=True).mean().sel(time=tp_series.time.dt.year.isin([np.arange(2000,2021)]))\n",
    "tp_quantile=tp_rol_q.sel(time=tp_rol_q.time.dt.month.isin([10,11,12])).quantile(0.33)\n",
    "print('value of the 33 percentile',tp_quantile.tp.values)\n",
    "\n",
    "# Create index time series\n",
    "# Replace the values bellow the 33 percentile with 1 and the rest with zeros\n",
    "tp_rol = tp_series.rolling(time=31, center=True).mean().sel(time=tp_series.time.dt.month.isin([10,11,12]))\n",
    "tp_rol_sel = tp_rol.sel(time = slice('1980','2021'))\n",
    "tp_index = tp_rol_sel < tp_quantile\n",
    "tp_index = tp_index.astype(int)\n",
    "print('tp index',tp_index)"
   ]
  },
  {
   "cell_type": "code",
   "execution_count": 32,
   "id": "ad133f0c-c322-43de-8718-546b811d0c40",
   "metadata": {},
   "outputs": [
    {
     "name": "stdout",
     "output_type": "stream",
     "text": [
      "number of 0 and 1:  (array([0, 1]), array([1939,  665]))\n",
      "<bound method Mapping.values of <xarray.Dataset>\n",
      "Dimensions:   (time: 2604)\n",
      "Coordinates:\n",
      "  * time      (time) datetime64[ns] 1980-10-16 1980-10-17 ... 2021-12-16\n",
      "    quantile  float64 0.33\n",
      "Data variables:\n",
      "    tp        (time) int64 dask.array<chunksize=(62,), meta=np.ndarray>>\n"
     ]
    },
    {
     "data": {
      "image/png": "[encoded data removed]",
      "text/plain": [
       "<Figure size 432x288 with 1 Axes>"
      ]
     },
     "metadata": {
      "needs_background": "light"
     },
     "output_type": "display_data"
    }
   ],
   "source": [
    "# Select from the index time series the period for the target values (predictant) \n",
    "# Oct 16 to Dec 16 for the period 1980-2020 (each day corresponds to a 31-day rolling mean)\n",
    "\n",
    "target_time_series=tp_index\n",
    "\n",
    "for iyr in range(1980,2022): # do not use the year 2021, in order to keep it for the final prediction skill scores\n",
    "    if iyr == 1980:\n",
    "        tp_target = target_time_series.sel(time = slice(str(iyr)+'-10-16',str(iyr)+'-12-16'))\n",
    "    else:\n",
    "        tp_target = xr.concat([tp_target,target_time_series.sel(time = slice(str(iyr)+'-10-16',str(iyr)+'-12-16'))], dim='time')\n",
    "print('number of 0 and 1: ',np.unique(tp_target['tp'],return_counts=True))\n",
    "\n",
    "print(tp_target.values)\n",
    "plt.plot(tp_target.tp)\n",
    "\n",
    "# Make it into a numpy array\n",
    "y_target=tp_target.tp.to_numpy()"
   ]
  },
  {
   "cell_type": "markdown",
   "id": "46bfd17f-eb49-4077-b702-963e1a544ec2",
   "metadata": {
    "tags": []
   },
   "source": [
    "## Predictor data"
   ]
  },
  {
   "cell_type": "code",
   "execution_count": null,
   "id": "789277e3-dd51-4881-8732-46378355d209",
   "metadata": {},
   "outputs": [],
   "source": [
    "# Predictor data preprocessing\n",
    "# can select the values and region you want by changing the parameters\n",
    "\n",
    "file_vars = ['ERA5_t2m', 'era5_t_850hpa', 'era5_z_200hpa', 'era5_z_500hpa', 'sst', 'era5_olr']\n",
    "header_vars = ['t2m', 't', 'z', 'z', 'sst', 'olr-mean']\n",
    "\n",
    "# select regions for the individual predictor\n",
    "lon_slices = [[-16,54],[-30,90],[-30,90],[-30,90],[40,180],[40,180]]\n",
    "lat_slices = [[16,0],[30,-20],[-20,30],[-20,30],[10,-10],[-20,20]]\n",
    "\n",
    "for file_var, header_var, lon_slice, lat_slice in zip (file_vars, header_vars, lon_slices, lat_slices):\n",
    "    if file_var=='era5_olr':\n",
    "        file = xr.open_mfdataset(root_data+file_var+'_1950_2021_daily_1deg_tropics.nc',\n",
    "                                 combine='by_coords',parallel=True)\n",
    "        print('olr')\n",
    "        var_dim = file.sel(lon=slice(lon_slice[0],lon_slice[1]),lat=slice(lat_slice[0],lat_slice[1]))\n",
    "        lon = var_dim.coords['lon'].values\n",
    "        lat = var_dim.coords['lat'].values\n",
    "    else:\n",
    "        file = xr.open_mfdataset(root_data+file_var+'_1959-2021_1_12_daily_2.0deg.nc',\n",
    "                                 combine='by_coords',parallel=True)\n",
    "        print(header_var)\n",
    "        var_dim = file.sel(longitude=slice(lon_slice[0],lon_slice[1]),latitude=slice(lat_slice[0],lat_slice[1]))\n",
    "        lon = var_dim.coords['longitude'].values\n",
    "        lat = var_dim.coords['latitude'].values\n",
    "\n",
    "    nlon = len(lon)\n",
    "    nlat = len(lat)\n",
    "    \n",
    "    var_series = var_dim.sel(time=var_dim.time.dt.year.isin([np.arange(SYY,EYY+1)])).rolling(time=7, center=False).mean(skipna=True)\n",
    "    #print(var_series)\n",
    "    \n",
    "    var_anom_series = var_series.groupby(\"time.dayofyear\") - var_series.groupby(\"time.dayofyear\").mean(\"time\",skipna=True)\n",
    "    \n",
    "    # Apply EOF -- use the months you want (base on how long the time series used as predictors)\n",
    "    var_anom_sel = var_anom_series.sel(time=var_anom_series.time.dt.month.isin([7,8,9,10,11]))[header_var].values\n",
    "    # first, make a grid out of the longitude and latitude vectors so they have the same dimensions \n",
    "    lon2d,lat2d = np.meshgrid(lon,lat)\n",
    "    wgts = np.cos(lat2d/180*np.pi)**0.5\n",
    "    print(wgts.shape)\n",
    "    solver = Eof(var_anom_sel,weights=wgts)\n",
    "    \n",
    "    # EOFs are multiplied by the square-root of their eigenvalues (then the EOF patterns will carry the units)\n",
    "    nmode = 5\n",
    "    EOF = solver.eofs(neofs=nmode,eofscaling=2) # get the first four eofs\n",
    "    print('EOF shape',np.shape(EOF))\n",
    "    eigenv = solver.eigenvalues(neigs=nmode)\n",
    "    #print('eigenvalues',eigenv)\n",
    "    VarEx = solver.varianceFraction(neigs=nmode)*100\n",
    "    print('the first '+str(nmode)+' modes explain '+str(np.round(sum(VarEx),2))+'% of the total variance of '+header_var)\n",
    "    PC = solver.pcs(npcs=nmode,pcscaling=1)\n",
    "    print('PC shape',np.shape(PC))\n",
    "    \n",
    "    # PC from np.array to xarray\n",
    "    mode = np.arange(nmode)\n",
    "    var_anom_dim = var_anom_series.sel(time=var_anom_series.time.dt.month.isin([7,8,9,10,11]))\n",
    "    time_dim = var_anom_dim.coords['time']\n",
    "    #print(var_anom_dim.coords['time'])\n",
    "    pc_xr = xr.DataArray(PC, coords={'time': time_dim, 'mode': mode}, dims=[\"time\",\"mode\"])\n",
    "    \n",
    "    # save the data for future use\n",
    "    np.save(root_results+'PC_series_n_'+str(nmode)+'_var_'+file_var+'_.npy',PC)\n",
    "    pc_xr.to_netcdf(root_results+'PC_series_n_'+str(nmode)+'_var_'+file_var+'_.nc')"
   ]
  },
  {
   "cell_type": "code",
   "execution_count": null,
   "id": "7149e054-907a-4243-8a54-ed8a6316ae0c",
   "metadata": {},
   "outputs": [],
   "source": [
    "start = time.time()\n",
    "SMM = 10\n",
    "SDD = 16\n",
    "EMM = 12\n",
    "EDD = 16\n",
    "ntimestep = 60\n",
    "rw = 31 # running mean window\n",
    "half_rw = int(rw/2)\n",
    "lead_time = 14\n",
    "rw_1 = 7 # running mean window for predictor\n",
    "# 31-day running mean so 15 days before the central day + 2 weeks in advance + 7-day running mean + 30-day time steps\n",
    "\n",
    "# Import predictors if the predictors have been saved before\n",
    "nmode=5\n",
    "var_num=6\n",
    "pc_xr = xr.open_mfdataset(root_results+'PC_serie*.nc',concat_dim=\"mode\",combine=\"nested\")# Frozen({'time': 6273, 'mode': 30})\n",
    "\n",
    "date_target = datetime.strftime(datetime(year=SYY,month=SMM,day=SDD), \"%Y.%m.%d\")\n",
    "pc_predictor = np.ndarray((len(tp_target['tp']),ntimestep,nmode*var_num))\n",
    "it = 0\n",
    "ii = 0\n",
    "YYY = SYY\n",
    "while YYY < EYY+1:\n",
    "    date_start = datetime.strftime(datetime.strptime(date_target, \"%Y.%m.%d\")-timedelta(days=half_rw+lead_time+rw_1+ntimestep-1),\"%Y.%m.%d\")\n",
    "    date_end = datetime.strftime(datetime.strptime(date_target, \"%Y.%m.%d\")-timedelta(days=half_rw+lead_time+rw_1),\"%Y.%m.%d\")\n",
    "    #print(date_target,date_start,date_end,it)\n",
    "    #pc_predictor[ii,:,:] = pc_xr.sel(time = slice(date_start,date_end)).values\n",
    "    pc_predictor[ii,:,:] = pc_xr.sel(time = slice(date_start,date_end))['__xarray_dataarray_variable__'].values\n",
    "    if date_target == datetime.strftime(datetime(year=YYY,month=EMM,day=EDD),\"%Y.%m.%d\"):\n",
    "        YYY = YYY+1\n",
    "        date_target = datetime.strftime(datetime(year=YYY,month=SMM,day=SDD), \"%Y.%m.%d\")\n",
    "        it = 0\n",
    "        print(YYY)\n",
    "    else:\n",
    "        it = 1\n",
    "    ii = ii+1\n",
    "    date_target = datetime.strftime(datetime.strptime(date_target, \"%Y.%m.%d\")+timedelta(days=it),\"%Y.%m.%d\") \n",
    "    \n",
    "np.save(root_results+'all_predictors_pcs.npy',pc_predictor)\n",
    "print('pc_predictor',pc_predictor.shape)\n",
    "    \n",
    "end = time.time()\n",
    "duration = end-start\n",
    "print(\"Time took {:3.1f} min\".format(duration/60))"
   ]
  },
  {
   "cell_type": "markdown",
   "id": "6e914f81-e84e-4041-9877-70e29bb4f4c8",
   "metadata": {},
   "source": [
    "## Split into train and validation"
   ]
  },
  {
   "cell_type": "code",
   "execution_count": 33,
   "id": "82365c79-b497-459d-a46c-8771f44c912c",
   "metadata": {},
   "outputs": [],
   "source": [
    "def get_train_test_val(data_predictor, data_target, test_frac, val_frac):\n",
    "    \"\"\"Splits data across periods into train, test, and validation\"\"\"\n",
    "    # assign the last int(-test_frac*len(tp_predictor)) rows to test data\n",
    "    test_predictor = data_predictor[int(-test_frac*len(data_target)):]\n",
    "    test_target = data_target[int(-test_frac*len(data_target)):]\n",
    "    \n",
    "    # assign the last int(-test_frac*len(tp_predictor)) from the remaining rows to validation data\n",
    "    remain_predictor = data_predictor[0:int(-test_frac*len(data_target))]\n",
    "    remain_target = data_target[0:int(-test_frac*len(data_target))]\n",
    "    val_predictor = remain_predictor[int(-val_frac*len(remain_predictor)):]\n",
    "    val_target = remain_target[int(-val_frac*len(remain_predictor)):]\n",
    "    \n",
    "    # the remaining rows are assigned to train data\n",
    "    train_predictor = remain_predictor[:int(-val_frac*len(remain_predictor))]\n",
    "    train_target = remain_target[:int(-val_frac*len(remain_predictor))]\n",
    "    return train_predictor, train_target, test_predictor, test_target, val_predictor, val_target"
   ]
  },
  {
   "cell_type": "code",
   "execution_count": 34,
   "id": "f989be89-e5e4-49e8-8c85-3538f4d1f9f3",
   "metadata": {},
   "outputs": [
    {
     "name": "stdout",
     "output_type": "stream",
     "text": [
      "(2604, 60, 30) (2604, 2)\n",
      "(1668, 60, 30) (1668, 2) (520, 60, 30) (520, 2) (416, 60, 30) (416, 2)\n"
     ]
    }
   ],
   "source": [
    "# define input and output data for LSTM\n",
    "y_all = keras.utils.to_categorical(y_target)\n",
    "X_all = np.load(root_results+'all_predictors_pcs.npy')\n",
    "print(X_all.shape,y_all.shape)\n",
    "\n",
    "# split the data\n",
    "train_X, train_y, test_X, test_y, val_X, val_y = get_train_test_val(X_all, y_all, test_frac=0.2, val_frac=0.2)\n",
    "print(train_X.shape, train_y.shape, test_X.shape, test_y.shape, val_X.shape, val_y.shape)"
   ]
  },
  {
   "cell_type": "code",
   "execution_count": 17,
   "id": "bcbce763-5567-452e-b562-cdc2eabf7252",
   "metadata": {},
   "outputs": [
    {
     "data": {
      "text/plain": [
       "<matplotlib.legend.Legend at 0x7f2dc2b0d880>"
      ]
     },
     "execution_count": 17,
     "metadata": {},
     "output_type": "execute_result"
    },
    {
     "data": {
      "image/png": "[encoded data removed]",
      "text/plain": [
       "<Figure size 432x288 with 1 Axes>"
      ]
     },
     "metadata": {
      "needs_background": "light"
     },
     "output_type": "display_data"
    }
   ],
   "source": [
    "ind = [0, 1, 2]\n",
    "names = [\"train\", \"val\", \"test\"]\n",
    "width = 0.75\n",
    "event_cnts = [np.unique(train_y[:,1],return_counts=True)[1][1],np.unique(val_y[:,1],return_counts=True)[1][1],np.unique(test_y[:,1],return_counts=True)[1][1]]\n",
    "nonevent_cnts = [np.unique(train_y[:,1],return_counts=True)[1][0],np.unique(val_y[:,1],return_counts=True)[1][0],np.unique(test_y[:,1],return_counts=True)[1][0]]\n",
    "\n",
    "p1 = plt.barh(ind, event_cnts, width)\n",
    "p2 = plt.barh(ind, nonevent_cnts, width, left=event_cnts)\n",
    "\n",
    "plt.yticks(ind, names)\n",
    "plt.ylabel(\"data set\")\n",
    "plt.xlabel(\"samples\")\n",
    "plt.title(\"Train/Validation/Test Splits\", fontsize=16)\n",
    "plt.legend([\"Event\", \"Non-event\"])"
   ]
  },
  {
   "cell_type": "markdown",
   "id": "9fbe9098-9118-4f32-b1f4-6570bf5fb23d",
   "metadata": {},
   "source": [
    "## Step 2: Building Stacked LSTM"
   ]
  },
  {
   "cell_type": "code",
   "execution_count": 24,
   "id": "2ced59cb-5be3-4d97-92da-12cff0d28572",
   "metadata": {},
   "outputs": [
    {
     "data": {
      "text/plain": [
       "(1615, 2)"
      ]
     },
     "execution_count": 24,
     "metadata": {},
     "output_type": "execute_result"
    }
   ],
   "source": [
    "train_y.shape"
   ]
  },
  {
   "cell_type": "code",
   "execution_count": 85,
   "id": "910953f2-4d26-4f9f-a22d-35104dd1b302",
   "metadata": {},
   "outputs": [
    {
     "name": "stdout",
     "output_type": "stream",
     "text": [
      "Model: \"sequential_13\"\n",
      "_________________________________________________________________\n",
      " Layer (type)                Output Shape              Param #   \n",
      "=================================================================\n",
      " lstm_48 (LSTM)              (None, 60, 60)            21840     \n",
      "                                                                 \n",
      " lstm_49 (LSTM)              (None, 60, 30)            10920     \n",
      "                                                                 \n",
      " lstm_50 (LSTM)              (None, 60, 10)            1640      \n",
      "                                                                 \n",
      " dropout_33 (Dropout)        (None, 60, 10)            0         \n",
      "                                                                 \n",
      " lstm_51 (LSTM)              (None, 5)                 320       \n",
      "                                                                 \n",
      " dropout_34 (Dropout)        (None, 5)                 0         \n",
      "                                                                 \n",
      " dense_20 (Dense)            (None, 6)                 36        \n",
      "                                                                 \n",
      " dropout_35 (Dropout)        (None, 6)                 0         \n",
      "                                                                 \n",
      " dense_21 (Dense)            (None, 2)                 14        \n",
      "                                                                 \n",
      "=================================================================\n",
      "Total params: 34,770\n",
      "Trainable params: 34,770\n",
      "Non-trainable params: 0\n",
      "_________________________________________________________________\n"
     ]
    }
   ],
   "source": [
    "#Initialize the RNN\n",
    "model = Sequential()\n",
    "\n",
    "# Add LSTM layer and dropout regularization       #30,1     \n",
    "model.add(LSTM(units = 60, return_sequences=True, input_shape = (train_X.shape[1], train_X.shape[2]),\n",
    "              kernel_regularizer=regularizers.l2(1)))\n",
    "# Add Regularization \n",
    "#model.add(Dropout(0.2))\n",
    "\n",
    "model.add(LSTM(units = 30, return_sequences=True, kernel_regularizer=regularizers.l2(0.01)))\n",
    "#model.add(Dropout(0.4))\n",
    "\n",
    "model.add(LSTM(units = 10, return_sequences=True))\n",
    "model.add(Dropout(0.4))\n",
    "\n",
    "model.add(LSTM(units = 5)) #default is tanh\n",
    "model.add(Dropout(0.5))\n",
    "\n",
    "model.add(Dense(units = 6,activation='relu'))\n",
    "model.add(Dropout(0.5))\n",
    "\n",
    "# Add output layer \n",
    "model.add(Dense(units = train_y.shape[1],activation='sigmoid')) #default is linear activation ##,activation='sigmoid'\n",
    "\n",
    "# Print model summary\n",
    "model.summary()"
   ]
  },
  {
   "cell_type": "code",
   "execution_count": 56,
   "id": "878fd19d-83d8-4b80-9945-21322f85b616",
   "metadata": {},
   "outputs": [
    {
     "data": {
      "text/plain": [
       "<keras.engine.sequential.Sequential at 0x7f2c7070bb50>"
      ]
     },
     "execution_count": 56,
     "metadata": {},
     "output_type": "execute_result"
    }
   ],
   "source": [
    "model"
   ]
  },
  {
   "cell_type": "code",
   "execution_count": 84,
   "id": "228b13df-77c1-42d0-8284-a17ff98c35ac",
   "metadata": {},
   "outputs": [],
   "source": [
    "del model"
   ]
  },
  {
   "cell_type": "markdown",
   "id": "276e47ac-1706-431d-bc18-4f742d047885",
   "metadata": {},
   "source": [
    "## Step 3 : Compile, Train, Predict"
   ]
  },
  {
   "cell_type": "code",
   "execution_count": null,
   "id": "f82ec77a-8595-44cf-b7d4-5776739aa6f7",
   "metadata": {},
   "outputs": [],
   "source": []
  },
  {
   "cell_type": "code",
   "execution_count": 86,
   "id": "03b6e02e-7fc1-4635-bebd-832082e4c0ef",
   "metadata": {},
   "outputs": [],
   "source": [
    "# callbacks \n",
    "callbacks_path = '/home/mpyrina/Lorentz_workshop/Results/' #'/home/zwu/Lorentz_workshop/test/checkpoint_test'\n",
    "metric = 'val_accuracy'\n",
    "callbacks_list = [\n",
    "    keras.callbacks.ModelCheckpoint(\n",
    "        filepath=callbacks_path,\n",
    "        monitor='val_accuracy',\n",
    "        save_best_only=True,\n",
    "    )\n",
    "]"
   ]
  },
  {
   "cell_type": "code",
   "execution_count": 87,
   "id": "a6379356-dd82-4860-b8e1-75a330b0633f",
   "metadata": {},
   "outputs": [
    {
     "name": "stdout",
     "output_type": "stream",
     "text": [
      "Epoch 1/50\n"
     ]
    },
    {
     "name": "stderr",
     "output_type": "stream",
     "text": [
      "WARNING:absl:Found untraced functions such as lstm_cell_48_layer_call_fn, lstm_cell_48_layer_call_and_return_conditional_losses, lstm_cell_49_layer_call_fn, lstm_cell_49_layer_call_and_return_conditional_losses, lstm_cell_50_layer_call_fn while saving (showing 5 of 8). These functions will not be directly callable after loading.\n"
     ]
    },
    {
     "name": "stdout",
     "output_type": "stream",
     "text": [
      "INFO:tensorflow:Assets written to: /home/mpyrina/Lorentz_workshop/Results/assets\n"
     ]
    },
    {
     "name": "stderr",
     "output_type": "stream",
     "text": [
      "INFO:tensorflow:Assets written to: /home/mpyrina/Lorentz_workshop/Results/assets\n"
     ]
    },
    {
     "name": "stdout",
     "output_type": "stream",
     "text": [
      "53/53 - 23s - loss: 52.0544 - accuracy: 0.4562 - val_loss: 49.2262 - val_accuracy: 0.5072 - 23s/epoch - 437ms/step\n",
      "Epoch 2/50\n"
     ]
    },
    {
     "name": "stderr",
     "output_type": "stream",
     "text": [
      "WARNING:absl:Found untraced functions such as lstm_cell_48_layer_call_fn, lstm_cell_48_layer_call_and_return_conditional_losses, lstm_cell_49_layer_call_fn, lstm_cell_49_layer_call_and_return_conditional_losses, lstm_cell_50_layer_call_fn while saving (showing 5 of 8). These functions will not be directly callable after loading.\n"
     ]
    },
    {
     "name": "stdout",
     "output_type": "stream",
     "text": [
      "INFO:tensorflow:Assets written to: /home/mpyrina/Lorentz_workshop/Results/assets\n"
     ]
    },
    {
     "name": "stderr",
     "output_type": "stream",
     "text": [
      "INFO:tensorflow:Assets written to: /home/mpyrina/Lorentz_workshop/Results/assets\n"
     ]
    },
    {
     "name": "stdout",
     "output_type": "stream",
     "text": [
      "53/53 - 16s - loss: 46.7795 - accuracy: 0.5300 - val_loss: 44.2335 - val_accuracy: 0.5505 - 16s/epoch - 304ms/step\n",
      "Epoch 3/50\n"
     ]
    },
    {
     "name": "stderr",
     "output_type": "stream",
     "text": [
      "WARNING:absl:Found untraced functions such as lstm_cell_48_layer_call_fn, lstm_cell_48_layer_call_and_return_conditional_losses, lstm_cell_49_layer_call_fn, lstm_cell_49_layer_call_and_return_conditional_losses, lstm_cell_50_layer_call_fn while saving (showing 5 of 8). These functions will not be directly callable after loading.\n"
     ]
    },
    {
     "name": "stdout",
     "output_type": "stream",
     "text": [
      "INFO:tensorflow:Assets written to: /home/mpyrina/Lorentz_workshop/Results/assets\n"
     ]
    },
    {
     "name": "stderr",
     "output_type": "stream",
     "text": [
      "INFO:tensorflow:Assets written to: /home/mpyrina/Lorentz_workshop/Results/assets\n"
     ]
    },
    {
     "name": "stdout",
     "output_type": "stream",
     "text": [
      "53/53 - 16s - loss: 42.0153 - accuracy: 0.6457 - val_loss: 39.7239 - val_accuracy: 0.5938 - 16s/epoch - 295ms/step\n",
      "Epoch 4/50\n"
     ]
    },
    {
     "name": "stderr",
     "output_type": "stream",
     "text": [
      "WARNING:absl:Found untraced functions such as lstm_cell_48_layer_call_fn, lstm_cell_48_layer_call_and_return_conditional_losses, lstm_cell_49_layer_call_fn, lstm_cell_49_layer_call_and_return_conditional_losses, lstm_cell_50_layer_call_fn while saving (showing 5 of 8). These functions will not be directly callable after loading.\n"
     ]
    },
    {
     "name": "stdout",
     "output_type": "stream",
     "text": [
      "INFO:tensorflow:Assets written to: /home/mpyrina/Lorentz_workshop/Results/assets\n"
     ]
    },
    {
     "name": "stderr",
     "output_type": "stream",
     "text": [
      "INFO:tensorflow:Assets written to: /home/mpyrina/Lorentz_workshop/Results/assets\n"
     ]
    },
    {
     "name": "stdout",
     "output_type": "stream",
     "text": [
      "53/53 - 15s - loss: 37.7118 - accuracy: 0.6882 - val_loss: 35.6471 - val_accuracy: 0.6034 - 15s/epoch - 281ms/step\n",
      "Epoch 5/50\n"
     ]
    },
    {
     "name": "stderr",
     "output_type": "stream",
     "text": [
      "WARNING:absl:Found untraced functions such as lstm_cell_48_layer_call_fn, lstm_cell_48_layer_call_and_return_conditional_losses, lstm_cell_49_layer_call_fn, lstm_cell_49_layer_call_and_return_conditional_losses, lstm_cell_50_layer_call_fn while saving (showing 5 of 8). These functions will not be directly callable after loading.\n"
     ]
    },
    {
     "name": "stdout",
     "output_type": "stream",
     "text": [
      "INFO:tensorflow:Assets written to: /home/mpyrina/Lorentz_workshop/Results/assets\n"
     ]
    },
    {
     "name": "stderr",
     "output_type": "stream",
     "text": [
      "INFO:tensorflow:Assets written to: /home/mpyrina/Lorentz_workshop/Results/assets\n"
     ]
    },
    {
     "name": "stdout",
     "output_type": "stream",
     "text": [
      "53/53 - 18s - loss: 33.8241 - accuracy: 0.7044 - val_loss: 31.9609 - val_accuracy: 0.6250 - 18s/epoch - 330ms/step\n",
      "Epoch 6/50\n"
     ]
    },
    {
     "name": "stderr",
     "output_type": "stream",
     "text": [
      "WARNING:absl:Found untraced functions such as lstm_cell_48_layer_call_fn, lstm_cell_48_layer_call_and_return_conditional_losses, lstm_cell_49_layer_call_fn, lstm_cell_49_layer_call_and_return_conditional_losses, lstm_cell_50_layer_call_fn while saving (showing 5 of 8). These functions will not be directly callable after loading.\n"
     ]
    },
    {
     "name": "stdout",
     "output_type": "stream",
     "text": [
      "INFO:tensorflow:Assets written to: /home/mpyrina/Lorentz_workshop/Results/assets\n"
     ]
    },
    {
     "name": "stderr",
     "output_type": "stream",
     "text": [
      "INFO:tensorflow:Assets written to: /home/mpyrina/Lorentz_workshop/Results/assets\n"
     ]
    },
    {
     "name": "stdout",
     "output_type": "stream",
     "text": [
      "53/53 - 16s - loss: 30.3071 - accuracy: 0.7374 - val_loss: 28.6286 - val_accuracy: 0.6394 - 16s/epoch - 298ms/step\n",
      "Epoch 7/50\n"
     ]
    },
    {
     "name": "stderr",
     "output_type": "stream",
     "text": [
      "WARNING:absl:Found untraced functions such as lstm_cell_48_layer_call_fn, lstm_cell_48_layer_call_and_return_conditional_losses, lstm_cell_49_layer_call_fn, lstm_cell_49_layer_call_and_return_conditional_losses, lstm_cell_50_layer_call_fn while saving (showing 5 of 8). These functions will not be directly callable after loading.\n"
     ]
    },
    {
     "name": "stdout",
     "output_type": "stream",
     "text": [
      "INFO:tensorflow:Assets written to: /home/mpyrina/Lorentz_workshop/Results/assets\n"
     ]
    },
    {
     "name": "stderr",
     "output_type": "stream",
     "text": [
      "INFO:tensorflow:Assets written to: /home/mpyrina/Lorentz_workshop/Results/assets\n"
     ]
    },
    {
     "name": "stdout",
     "output_type": "stream",
     "text": [
      "53/53 - 16s - loss: 27.1267 - accuracy: 0.7344 - val_loss: 25.6171 - val_accuracy: 0.6538 - 16s/epoch - 299ms/step\n",
      "Epoch 8/50\n",
      "53/53 - 3s - loss: 24.2558 - accuracy: 0.7308 - val_loss: 22.8973 - val_accuracy: 0.6538 - 3s/epoch - 61ms/step\n",
      "Epoch 9/50\n",
      "53/53 - 3s - loss: 21.6630 - accuracy: 0.7398 - val_loss: 20.4435 - val_accuracy: 0.6538 - 3s/epoch - 62ms/step\n",
      "Epoch 10/50\n",
      "53/53 - 3s - loss: 19.3224 - accuracy: 0.7482 - val_loss: 18.2321 - val_accuracy: 0.6538 - 3s/epoch - 61ms/step\n",
      "Epoch 11/50\n",
      "53/53 - 3s - loss: 17.2130 - accuracy: 0.7596 - val_loss: 16.2411 - val_accuracy: 0.6538 - 3s/epoch - 62ms/step\n",
      "Epoch 12/50\n",
      "53/53 - 3s - loss: 15.3160 - accuracy: 0.7398 - val_loss: 14.4505 - val_accuracy: 0.6538 - 3s/epoch - 63ms/step\n",
      "Epoch 13/50\n",
      "53/53 - 3s - loss: 13.6208 - accuracy: 0.7428 - val_loss: 12.8427 - val_accuracy: 0.6538 - 3s/epoch - 61ms/step\n",
      "Epoch 14/50\n",
      "53/53 - 3s - loss: 12.0918 - accuracy: 0.7374 - val_loss: 11.4024 - val_accuracy: 0.6538 - 3s/epoch - 65ms/step\n",
      "Epoch 15/50\n",
      "53/53 - 3s - loss: 10.7171 - accuracy: 0.7410 - val_loss: 10.1128 - val_accuracy: 0.6538 - 3s/epoch - 62ms/step\n",
      "Epoch 16/50\n",
      "53/53 - 3s - loss: 9.4897 - accuracy: 0.7398 - val_loss: 8.9611 - val_accuracy: 0.6538 - 3s/epoch - 62ms/step\n",
      "Epoch 17/50\n",
      "53/53 - 3s - loss: 8.3957 - accuracy: 0.7470 - val_loss: 7.9334 - val_accuracy: 0.6538 - 3s/epoch - 61ms/step\n",
      "Epoch 18/50\n",
      "53/53 - 3s - loss: 7.4223 - accuracy: 0.7506 - val_loss: 7.0177 - val_accuracy: 0.6538 - 3s/epoch - 62ms/step\n",
      "Epoch 19/50\n",
      "53/53 - 3s - loss: 6.5544 - accuracy: 0.7374 - val_loss: 6.2043 - val_accuracy: 0.6538 - 3s/epoch - 61ms/step\n",
      "Epoch 20/50\n",
      "53/53 - 3s - loss: 5.7820 - accuracy: 0.7506 - val_loss: 5.4843 - val_accuracy: 0.6538 - 3s/epoch - 60ms/step\n",
      "Epoch 21/50\n",
      "53/53 - 3s - loss: 5.0941 - accuracy: 0.7590 - val_loss: 4.8466 - val_accuracy: 0.6538 - 3s/epoch - 62ms/step\n",
      "Epoch 22/50\n",
      "53/53 - 3s - loss: 4.4958 - accuracy: 0.7572 - val_loss: 4.2829 - val_accuracy: 0.6538 - 3s/epoch - 61ms/step\n",
      "Epoch 23/50\n",
      "53/53 - 3s - loss: 3.9629 - accuracy: 0.7530 - val_loss: 3.7895 - val_accuracy: 0.6538 - 3s/epoch - 61ms/step\n",
      "Epoch 24/50\n",
      "53/53 - 3s - loss: 3.4881 - accuracy: 0.7608 - val_loss: 3.3511 - val_accuracy: 0.6538 - 3s/epoch - 61ms/step\n",
      "Epoch 25/50\n",
      "53/53 - 3s - loss: 3.1033 - accuracy: 0.7794 - val_loss: 2.9785 - val_accuracy: 0.6538 - 3s/epoch - 60ms/step\n",
      "Epoch 26/50\n",
      "53/53 - 3s - loss: 2.7287 - accuracy: 0.7572 - val_loss: 2.6437 - val_accuracy: 0.6538 - 3s/epoch - 62ms/step\n",
      "Epoch 27/50\n",
      "53/53 - 3s - loss: 2.4215 - accuracy: 0.7638 - val_loss: 2.3548 - val_accuracy: 0.6538 - 3s/epoch - 60ms/step\n",
      "Epoch 28/50\n",
      "53/53 - 3s - loss: 2.1576 - accuracy: 0.7680 - val_loss: 2.1037 - val_accuracy: 0.6538 - 3s/epoch - 63ms/step\n",
      "Epoch 29/50\n",
      "53/53 - 3s - loss: 1.9160 - accuracy: 0.7692 - val_loss: 1.8939 - val_accuracy: 0.6538 - 3s/epoch - 61ms/step\n",
      "Epoch 30/50\n",
      "53/53 - 3s - loss: 1.7122 - accuracy: 0.7818 - val_loss: 1.6994 - val_accuracy: 0.6538 - 3s/epoch - 62ms/step\n",
      "Epoch 31/50\n",
      "53/53 - 3s - loss: 1.5270 - accuracy: 0.7776 - val_loss: 1.5451 - val_accuracy: 0.6538 - 3s/epoch - 61ms/step\n",
      "Epoch 32/50\n",
      "53/53 - 3s - loss: 1.3947 - accuracy: 0.7662 - val_loss: 1.4033 - val_accuracy: 0.6538 - 3s/epoch - 62ms/step\n",
      "Epoch 33/50\n",
      "53/53 - 3s - loss: 1.2633 - accuracy: 0.7914 - val_loss: 1.2902 - val_accuracy: 0.6538 - 3s/epoch - 62ms/step\n",
      "Epoch 34/50\n",
      "53/53 - 3s - loss: 1.1506 - accuracy: 0.7758 - val_loss: 1.1978 - val_accuracy: 0.6538 - 3s/epoch - 62ms/step\n",
      "Epoch 35/50\n",
      "53/53 - 3s - loss: 1.0650 - accuracy: 0.7860 - val_loss: 1.1155 - val_accuracy: 0.6538 - 3s/epoch - 62ms/step\n",
      "Epoch 36/50\n",
      "53/53 - 3s - loss: 0.9738 - accuracy: 0.8040 - val_loss: 1.0432 - val_accuracy: 0.6538 - 3s/epoch - 61ms/step\n",
      "Epoch 37/50\n",
      "53/53 - 3s - loss: 0.9103 - accuracy: 0.7920 - val_loss: 0.9760 - val_accuracy: 0.6538 - 3s/epoch - 61ms/step\n",
      "Epoch 38/50\n",
      "53/53 - 3s - loss: 0.8478 - accuracy: 0.8034 - val_loss: 0.9106 - val_accuracy: 0.6538 - 3s/epoch - 61ms/step\n",
      "Epoch 39/50\n"
     ]
    },
    {
     "name": "stderr",
     "output_type": "stream",
     "text": [
      "WARNING:absl:Found untraced functions such as lstm_cell_48_layer_call_fn, lstm_cell_48_layer_call_and_return_conditional_losses, lstm_cell_49_layer_call_fn, lstm_cell_49_layer_call_and_return_conditional_losses, lstm_cell_50_layer_call_fn while saving (showing 5 of 8). These functions will not be directly callable after loading.\n"
     ]
    },
    {
     "name": "stdout",
     "output_type": "stream",
     "text": [
      "INFO:tensorflow:Assets written to: /home/mpyrina/Lorentz_workshop/Results/assets\n"
     ]
    },
    {
     "name": "stderr",
     "output_type": "stream",
     "text": [
      "INFO:tensorflow:Assets written to: /home/mpyrina/Lorentz_workshop/Results/assets\n"
     ]
    },
    {
     "name": "stdout",
     "output_type": "stream",
     "text": [
      "53/53 - 16s - loss: 0.7914 - accuracy: 0.7872 - val_loss: 0.8880 - val_accuracy: 0.6562 - 16s/epoch - 305ms/step\n",
      "Epoch 40/50\n"
     ]
    },
    {
     "name": "stderr",
     "output_type": "stream",
     "text": [
      "WARNING:absl:Found untraced functions such as lstm_cell_48_layer_call_fn, lstm_cell_48_layer_call_and_return_conditional_losses, lstm_cell_49_layer_call_fn, lstm_cell_49_layer_call_and_return_conditional_losses, lstm_cell_50_layer_call_fn while saving (showing 5 of 8). These functions will not be directly callable after loading.\n"
     ]
    },
    {
     "name": "stdout",
     "output_type": "stream",
     "text": [
      "INFO:tensorflow:Assets written to: /home/mpyrina/Lorentz_workshop/Results/assets\n"
     ]
    },
    {
     "name": "stderr",
     "output_type": "stream",
     "text": [
      "INFO:tensorflow:Assets written to: /home/mpyrina/Lorentz_workshop/Results/assets\n"
     ]
    },
    {
     "name": "stdout",
     "output_type": "stream",
     "text": [
      "53/53 - 17s - loss: 0.7517 - accuracy: 0.8004 - val_loss: 0.8549 - val_accuracy: 0.7260 - 17s/epoch - 318ms/step\n",
      "Epoch 41/50\n",
      "53/53 - 3s - loss: 0.7333 - accuracy: 0.8147 - val_loss: 0.8303 - val_accuracy: 0.6635 - 3s/epoch - 64ms/step\n",
      "Epoch 42/50\n",
      "53/53 - 3s - loss: 0.6889 - accuracy: 0.8165 - val_loss: 0.7931 - val_accuracy: 0.6562 - 3s/epoch - 62ms/step\n",
      "Epoch 43/50\n",
      "53/53 - 3s - loss: 0.6755 - accuracy: 0.8082 - val_loss: 0.8009 - val_accuracy: 0.6370 - 3s/epoch - 62ms/step\n",
      "Epoch 44/50\n",
      "53/53 - 3s - loss: 0.6630 - accuracy: 0.8070 - val_loss: 0.7724 - val_accuracy: 0.6106 - 3s/epoch - 62ms/step\n",
      "Epoch 45/50\n",
      "53/53 - 4s - loss: 0.6436 - accuracy: 0.8153 - val_loss: 0.7580 - val_accuracy: 0.5625 - 4s/epoch - 71ms/step\n",
      "Epoch 46/50\n",
      "53/53 - 3s - loss: 0.6303 - accuracy: 0.8088 - val_loss: 0.7420 - val_accuracy: 0.6058 - 3s/epoch - 63ms/step\n",
      "Epoch 47/50\n",
      "53/53 - 3s - loss: 0.6138 - accuracy: 0.8135 - val_loss: 0.7312 - val_accuracy: 0.5673 - 3s/epoch - 62ms/step\n",
      "Epoch 48/50\n",
      "53/53 - 3s - loss: 0.6079 - accuracy: 0.8255 - val_loss: 0.7412 - val_accuracy: 0.3774 - 3s/epoch - 63ms/step\n",
      "Epoch 49/50\n",
      "53/53 - 3s - loss: 0.5923 - accuracy: 0.8237 - val_loss: 0.7284 - val_accuracy: 0.4688 - 3s/epoch - 63ms/step\n",
      "Epoch 50/50\n",
      "53/53 - 3s - loss: 0.5916 - accuracy: 0.8357 - val_loss: 0.7275 - val_accuracy: 0.4952 - 3s/epoch - 63ms/step\n"
     ]
    }
   ],
   "source": [
    "from keras.optimizers import SGD\n",
    "from keras.optimizers import Adam\n",
    "from sklearn.metrics import brier_score_loss\n",
    "\n",
    "# Compile the model  #model.compile(optimizer='adam',loss='categorical_crossentropy',metrics=['accuracy']) #'binary_crossentropy'\n",
    "model.compile(optimizer=Adam(lr=0.0001), loss = 'binary_crossentropy', metrics=['accuracy']) #metrics=[tf.keras.metrics.TruePositives()] , metrics=['accuracy']\n",
    "\n",
    "#model.compile(optimizer=SGD(lr=0.0001, decay=1e-6, momentum=0.9, nesterov=True),loss='binary_crossentropy') #,\n",
    "#metrics=[tf.keras.metrics.BinaryAccuracy(name=\"binary_accuracy\", dtype=None, threshold=0.5)])\n",
    "\n",
    "#Create a class weight dictionary to help if the classes are unbalanced\n",
    "def class_weight_creator(Y):\n",
    "    class_dict = {}\n",
    "    weights = np.max(np.sum(Y, axis=0)) / np.sum(Y, axis=0)\n",
    "    for i in range( Y.shape[-1] ):\n",
    "        class_dict[i] = weights[i]\n",
    "    return class_dict\n",
    "class_weight = class_weight_creator(train_X)\n",
    "\n",
    "#from sklearn.utils import compute_class_weight\n",
    "#classWeight = compute_class_weight('balanced', outputLabels, outputs) \n",
    "#classWeight = dict(enumerate(classWeight))\n",
    "\n",
    "#Train model\n",
    "#history=model.fit(train_predictor, train_target, epochs = 50, batch_size= 32) #shuffle= False\n",
    "history = model.fit(train_X, train_y, epochs=50, batch_size=32, shuffle= False,\n",
    "                    callbacks=callbacks_list, validation_data=(val_X, val_y), \n",
    "                    verbose=2) #, class_weight=class_weight\n"
   ]
  },
  {
   "cell_type": "code",
   "execution_count": null,
   "id": "e72d57eb-5518-4dc9-a03e-f3e5fb6f4f90",
   "metadata": {},
   "outputs": [],
   "source": [
    "# train the model\n",
    "#history = model.fit(train_X, train_y, epochs=epochs, batch_size=batch_size, validation_data=(val_X, val_y), \n",
    "#                    shuffle = shuffle, verbose=verbose, class_weight=class_weight)"
   ]
  },
  {
   "cell_type": "code",
   "execution_count": null,
   "id": "457f534c-cb59-4074-b0a4-03607a641cad",
   "metadata": {},
   "outputs": [],
   "source": [
    "to_categorical(train_target).shape"
   ]
  },
  {
   "cell_type": "code",
   "execution_count": null,
   "id": "f28fc2e0-bd04-4237-b49c-df965c388232",
   "metadata": {},
   "outputs": [],
   "source": [
    "to_categorical(val_target)[:,0]"
   ]
  },
  {
   "cell_type": "code",
   "execution_count": null,
   "id": "8cd22b65-ce46-4f6d-bc18-db74d4f4c265",
   "metadata": {},
   "outputs": [],
   "source": [
    "#predict using test data (new data)\n",
    "prediction = model.predict(test_predictor)\n",
    "prediction"
   ]
  },
  {
   "cell_type": "code",
   "execution_count": null,
   "id": "f2fc11b0-6a80-4003-9336-5f369aef3c95",
   "metadata": {},
   "outputs": [],
   "source": [
    "#rescale back to original data\n",
    "predicted_stock_price = scale.inverse_transform(predicted_stock_price)\n",
    "predicted_stock_price"
   ]
  },
  {
   "cell_type": "code",
   "execution_count": null,
   "id": "0ad22da8-b1c4-464a-b83f-94f586e56356",
   "metadata": {},
   "outputs": [],
   "source": [
    "plt.plot(stock_price, color = 'red', label = 'Real Google Stock price')\n",
    "plt.plot(predicted_stock_price, color = 'green', label = 'Predicted Google Stock price')\n",
    "plt.title(\"Google Stock Price Prediction\")\n",
    "plt.xlabel('Time')\n",
    "plt.ylabel('Stock price')\n",
    "plt.legend()\n",
    "plt.show()"
   ]
  },
  {
   "cell_type": "code",
   "execution_count": null,
   "id": "2a22321e-6a20-4243-97a2-349142a353f9",
   "metadata": {},
   "outputs": [],
   "source": [
    "import math\n",
    "from sklearn.metrics import mean_squared_error\n",
    "rmse = math.sqrt(mean_squared_error(stock_price, predicted_stock_price))\n",
    "\n",
    "print(f\"Mean square error : {rmse}\")"
   ]
  },
  {
   "cell_type": "code",
   "execution_count": 83,
   "id": "0bfe79f5-c370-4402-91cc-a5b4f20a6511",
   "metadata": {},
   "outputs": [
    {
     "data": {
      "text/plain": [
       "<matplotlib.legend.Legend at 0x7f2c3405e040>"
      ]
     },
     "execution_count": 83,
     "metadata": {},
     "output_type": "execute_result"
    },
    {
     "data": {
      "image/png": "[encoded data removed]",
      "text/plain": [
       "<Figure size 1152x288 with 2 Axes>"
      ]
     },
     "metadata": {
      "needs_background": "light"
     },
     "output_type": "display_data"
    }
   ],
   "source": [
    "#Result with shufle=True\n",
    "\n",
    "train_acc = history.history['accuracy']\n",
    "val_acc = history.history['val_accuracy']\n",
    "train_loss = history.history['loss']\n",
    "val_loss = history.history['val_loss']\n",
    "fig, (ax1,ax2) = plt.subplots(1,2, figsize=plt.figaspect(0.25))\n",
    "ax1.plot(train_acc, label='Training Accuracy')\n",
    "ax1.plot(val_acc, label='Validation Accuracy')\n",
    "ax1.set_title('Accuracy')\n",
    "ax1.set_xlabel('Epoch')\n",
    "ax1.set_ylabel('Accuracy')\n",
    "ax1.set_ylim(0,1.1)\n",
    "ax1.legend()\n",
    "\n",
    "ax2.plot(train_loss, label='Training loss')\n",
    "ax2.plot(val_loss, label='Validation loss')\n",
    "ax2.set_title('Loss')\n",
    "ax2.set_xlabel('Epoch')\n",
    "ax2.set_ylabel('Loss')\n",
    "ax2.legend()"
   ]
  },
  {
   "cell_type": "code",
   "execution_count": 88,
   "id": "19230b70-bd1d-4e49-988e-ef76bb44c053",
   "metadata": {},
   "outputs": [
    {
     "data": {
      "text/plain": [
       "<matplotlib.legend.Legend at 0x7f2bb047f610>"
      ]
     },
     "execution_count": 88,
     "metadata": {},
     "output_type": "execute_result"
    },
    {
     "data": {
      "image/png": "[encoded data removed]",
      "text/plain": [
       "<Figure size 1152x288 with 2 Axes>"
      ]
     },
     "metadata": {
      "needs_background": "light"
     },
     "output_type": "display_data"
    }
   ],
   "source": [
    "#Result with shufle=False\n",
    "\n",
    "train_acc = history.history['accuracy']\n",
    "val_acc = history.history['val_accuracy']\n",
    "train_loss = history.history['loss']\n",
    "val_loss = history.history['val_loss']\n",
    "fig, (ax1,ax2) = plt.subplots(1,2, figsize=plt.figaspect(0.25))\n",
    "ax1.plot(train_acc, label='Training Accuracy')\n",
    "ax1.plot(val_acc, label='Validation Accuracy')\n",
    "ax1.set_title('Accuracy')\n",
    "ax1.set_xlabel('Epoch')\n",
    "ax1.set_ylabel('Accuracy')\n",
    "ax1.set_ylim(0,1.1)\n",
    "ax1.legend()\n",
    "\n",
    "ax2.plot(train_loss, label='Training loss')\n",
    "ax2.plot(val_loss, label='Validation loss')\n",
    "ax2.set_title('Loss')\n",
    "ax2.set_xlabel('Epoch')\n",
    "ax2.set_ylabel('Loss')\n",
    "ax2.legend()"
   ]
  },
  {
   "cell_type": "code",
   "execution_count": null,
   "id": "b2af63e9-61e5-403c-9be8-046bca585749",
   "metadata": {},
   "outputs": [],
   "source": [
    "import sklearn \n",
    "from sklearn.calibration import calibration_curve\n",
    "import matplotlib.lines as line\n",
    "import matplotlib.pyplot as plt \n",
    "\n",
    "x, y=calibration_curve(y_true, y_prob)\n",
    "\n",
    "plt.plot(x,y)\n",
    "ref = line.Line2D([0, 1], [0, 1], color='black')\n",
    "transform = ax.transAxes\n",
    "line.set_transform(transform)\n",
    "ax.add_line(line)\n",
    "fig.suptitle('Calibration – Neptune.ai')\n",
    "ax.set_xlabel('Predicted probability')\n",
    "ax.set_ylabel('Fraction of positive')\n",
    "plt.legend()\n",
    "plt.show()"
   ]
  },
  {
   "cell_type": "code",
   "execution_count": null,
   "id": "8cfb363a-32d4-4a7e-9d59-fcee8f6e0b56",
   "metadata": {},
   "outputs": [],
   "source": []
  }
 ],
 "metadata": {
  "kernelspec": {
   "display_name": "Python (iacpy3_2022)",
   "language": "python",
   "name": "iacpy3_2022"
  },
  "language_info": {
   "codemirror_mode": {
    "name": "ipython",
    "version": 3
   },
   "file_extension": ".py",
   "mimetype": "text/x-python",
   "name": "python",
   "nbconvert_exporter": "python",
   "pygments_lexer": "ipython3",
   "version": "3.9.10"
  }
 },
 "nbformat": 4,
 "nbformat_minor": 5
}
